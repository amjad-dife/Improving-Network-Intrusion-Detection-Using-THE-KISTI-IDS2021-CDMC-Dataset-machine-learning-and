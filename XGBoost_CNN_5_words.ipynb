{
 "cells": [
  {
   "cell_type": "markdown",
   "id": "sjpogQ9hmhUt",
   "metadata": {
    "id": "sjpogQ9hmhUt"
   },
   "source": [
    "## Libraries "
   ]
  },
  {
   "cell_type": "code",
   "execution_count": 3,
   "id": "JHGQAb4NmhUy",
   "metadata": {
    "ExecuteTime": {
     "end_time": "2022-12-03T13:10:30.747084Z",
     "start_time": "2022-12-03T13:10:30.142143Z"
    },
    "execution": {
     "iopub.execute_input": "2022-12-08T19:02:24.476045Z",
     "iopub.status.busy": "2022-12-08T19:02:24.475593Z",
     "iopub.status.idle": "2022-12-08T19:02:24.495993Z",
     "shell.execute_reply": "2022-12-08T19:02:24.494884Z",
     "shell.execute_reply.started": "2022-12-08T19:02:24.475951Z"
    },
    "id": "JHGQAb4NmhUy"
   },
   "outputs": [],
   "source": [
    "import pandas as pd\n",
    "import numpy as np"
   ]
  },
  {
   "cell_type": "code",
   "execution_count": 4,
   "id": "YbV7cTKkmhU0",
   "metadata": {
    "ExecuteTime": {
     "end_time": "2022-12-03T13:10:36.156317Z",
     "start_time": "2022-12-03T13:10:35.013544Z"
    },
    "execution": {
     "iopub.execute_input": "2022-12-08T19:02:25.398748Z",
     "iopub.status.busy": "2022-12-08T19:02:25.398388Z",
     "iopub.status.idle": "2022-12-08T19:02:25.921230Z",
     "shell.execute_reply": "2022-12-08T19:02:25.920160Z",
     "shell.execute_reply.started": "2022-12-08T19:02:25.398715Z"
    },
    "id": "YbV7cTKkmhU0"
   },
   "outputs": [],
   "source": [
    "import seaborn as sns\n",
    "import matplotlib.pyplot as plt\n",
    "import matplotlib.gridspec as gridspec\n",
    "#plt.figure(figsize=(16,10))"
   ]
  },
  {
   "cell_type": "code",
   "execution_count": 5,
   "id": "3acd7MmMmhU1",
   "metadata": {
    "ExecuteTime": {
     "end_time": "2022-12-03T13:10:38.105689Z",
     "start_time": "2022-12-03T13:10:38.101660Z"
    },
    "execution": {
     "iopub.execute_input": "2022-12-08T19:02:26.759778Z",
     "iopub.status.busy": "2022-12-08T19:02:26.759079Z",
     "iopub.status.idle": "2022-12-08T19:02:26.764782Z",
     "shell.execute_reply": "2022-12-08T19:02:26.763766Z",
     "shell.execute_reply.started": "2022-12-08T19:02:26.759742Z"
    },
    "id": "3acd7MmMmhU1"
   },
   "outputs": [],
   "source": [
    "import json"
   ]
  },
  {
   "cell_type": "code",
   "execution_count": 6,
   "id": "a0UaHq_RmhU1",
   "metadata": {
    "ExecuteTime": {
     "end_time": "2022-12-03T13:10:40.505925Z",
     "start_time": "2022-12-03T13:10:40.300784Z"
    },
    "execution": {
     "iopub.execute_input": "2022-12-08T19:02:27.349676Z",
     "iopub.status.busy": "2022-12-08T19:02:27.348989Z",
     "iopub.status.idle": "2022-12-08T19:02:27.405259Z",
     "shell.execute_reply": "2022-12-08T19:02:27.404345Z",
     "shell.execute_reply.started": "2022-12-08T19:02:27.349632Z"
    },
    "id": "a0UaHq_RmhU1"
   },
   "outputs": [],
   "source": [
    "from sklearn import preprocessing"
   ]
  },
  {
   "cell_type": "code",
   "execution_count": 7,
   "id": "aP--2bd2mhU4",
   "metadata": {
    "ExecuteTime": {
     "end_time": "2022-12-03T13:10:41.491645Z",
     "start_time": "2022-12-03T13:10:41.421501Z"
    },
    "execution": {
     "iopub.execute_input": "2022-12-08T19:02:27.990881Z",
     "iopub.status.busy": "2022-12-08T19:02:27.990032Z",
     "iopub.status.idle": "2022-12-08T19:02:28.035832Z",
     "shell.execute_reply": "2022-12-08T19:02:28.034884Z",
     "shell.execute_reply.started": "2022-12-08T19:02:27.990838Z"
    },
    "id": "aP--2bd2mhU4"
   },
   "outputs": [],
   "source": [
    "from sklearn.model_selection import train_test_split"
   ]
  },
  {
   "cell_type": "code",
   "execution_count": 8,
   "id": "UPQnW0u7mhU5",
   "metadata": {
    "ExecuteTime": {
     "end_time": "2022-12-03T13:15:35.135662Z",
     "start_time": "2022-12-03T13:15:35.085691Z"
    },
    "execution": {
     "iopub.execute_input": "2022-12-08T19:02:28.988918Z",
     "iopub.status.busy": "2022-12-08T19:02:28.988242Z",
     "iopub.status.idle": "2022-12-08T19:02:30.939807Z",
     "shell.execute_reply": "2022-12-08T19:02:30.938863Z",
     "shell.execute_reply.started": "2022-12-08T19:02:28.988885Z"
    },
    "id": "UPQnW0u7mhU5",
    "outputId": "a637ec81-4b6f-4d18-cf20-ad6c62b3bc74"
   },
   "outputs": [],
   "source": [
    "from sklearn.ensemble import RandomForestClassifier\n",
    "from sklearn.ensemble import HistGradientBoostingClassifier\n",
    "from catboost import CatBoostClassifier\n",
    "from sklearn.tree import DecisionTreeClassifier\n",
    "import xgboost as xgb\n",
    "from sklearn.ensemble import  AdaBoostClassifier\n",
    "#!pip install lightgbm\n",
    "import lightgbm as lgb"
   ]
  },
  {
   "cell_type": "code",
   "execution_count": 9,
   "id": "BQYeD-8emhU7",
   "metadata": {
    "ExecuteTime": {
     "end_time": "2022-12-03T13:15:47.669654Z",
     "start_time": "2022-12-03T13:15:43.757624Z"
    },
    "execution": {
     "iopub.execute_input": "2022-12-08T19:02:30.942130Z",
     "iopub.status.busy": "2022-12-08T19:02:30.941782Z",
     "iopub.status.idle": "2022-12-08T19:02:36.083042Z",
     "shell.execute_reply": "2022-12-08T19:02:36.082046Z",
     "shell.execute_reply.started": "2022-12-08T19:02:30.942096Z"
    },
    "id": "BQYeD-8emhU7"
   },
   "outputs": [],
   "source": [
    "import tensorflow as tf\n",
    "import tensorflow.keras as keras\n",
    "from keras.models import Model\n",
    "from tensorflow.keras.optimizers import Adam\n",
    "from keras.applications.vgg16 import VGG16, preprocess_input\n",
    "from tensorflow.keras.applications.resnet50 import ResNet50\n",
    "\n",
    "from keras.callbacks import ModelCheckpoint, EarlyStopping\n",
    "from keras.layers import Dense, Dropout, Flatten,BatchNormalization\n",
    "from keras.models import Model\n",
    "from pathlib import Path"
   ]
  },
  {
   "cell_type": "code",
   "execution_count": 12,
   "id": "D-vQhuVTmhU7",
   "metadata": {
    "execution": {
     "iopub.execute_input": "2022-12-08T19:02:36.086037Z",
     "iopub.status.busy": "2022-12-08T19:02:36.085116Z",
     "iopub.status.idle": "2022-12-08T19:02:47.430287Z",
     "shell.execute_reply": "2022-12-08T19:02:47.429105Z",
     "shell.execute_reply.started": "2022-12-08T19:02:36.085988Z"
    },
    "id": "D-vQhuVTmhU7",
    "outputId": "d8caa248-59c8-4eaf-a3ef-47dce415deb2"
   },
   "outputs": [],
   "source": [
    "#!pip install livelossplot"
   ]
  },
  {
   "cell_type": "code",
   "execution_count": 13,
   "id": "3tK-wImYmhU8",
   "metadata": {
    "ExecuteTime": {
     "end_time": "2022-12-03T13:16:40.370359Z",
     "start_time": "2022-12-03T13:16:40.354359Z"
    },
    "execution": {
     "iopub.execute_input": "2022-12-08T19:02:47.434573Z",
     "iopub.status.busy": "2022-12-08T19:02:47.434193Z",
     "iopub.status.idle": "2022-12-08T19:02:47.451768Z",
     "shell.execute_reply": "2022-12-08T19:02:47.450631Z",
     "shell.execute_reply.started": "2022-12-08T19:02:47.434539Z"
    },
    "id": "3tK-wImYmhU8"
   },
   "outputs": [],
   "source": [
    "from tensorflow.keras.optimizers import Adam\n",
    "from livelossplot.inputs.keras import PlotLossesCallback\n",
    "from sklearn.metrics import accuracy_score\n",
    "from keras.layers import Dense, Dropout, Flatten\n",
    "from keras.models import Model"
   ]
  },
  {
   "cell_type": "code",
   "execution_count": 14,
   "id": "qfhLNs1mmhU8",
   "metadata": {
    "ExecuteTime": {
     "end_time": "2022-12-03T13:16:45.887310Z",
     "start_time": "2022-12-03T13:16:45.876313Z"
    },
    "execution": {
     "iopub.execute_input": "2022-12-08T19:02:47.456736Z",
     "iopub.status.busy": "2022-12-08T19:02:47.456483Z",
     "iopub.status.idle": "2022-12-08T19:02:47.461881Z",
     "shell.execute_reply": "2022-12-08T19:02:47.460669Z",
     "shell.execute_reply.started": "2022-12-08T19:02:47.456712Z"
    },
    "id": "qfhLNs1mmhU8"
   },
   "outputs": [],
   "source": [
    "import numpy as np\n",
    "import keras\n",
    "from keras.models import Sequential\n",
    "from keras.layers import Dense, Dropout, Flatten\n",
    "from keras.layers import Conv2D, MaxPooling2D\n",
    "from tensorflow.keras.optimizers import SGD\n",
    "from keras.layers import LeakyReLU"
   ]
  },
  {
   "cell_type": "code",
   "execution_count": 15,
   "id": "KgksmgSEmhU9",
   "metadata": {
    "ExecuteTime": {
     "end_time": "2022-12-03T14:02:18.249909Z",
     "start_time": "2022-12-03T14:02:18.237910Z"
    },
    "execution": {
     "iopub.execute_input": "2022-12-08T19:02:47.463527Z",
     "iopub.status.busy": "2022-12-08T19:02:47.463218Z",
     "iopub.status.idle": "2022-12-08T19:02:47.472597Z",
     "shell.execute_reply": "2022-12-08T19:02:47.471668Z",
     "shell.execute_reply.started": "2022-12-08T19:02:47.463494Z"
    },
    "id": "KgksmgSEmhU9"
   },
   "outputs": [],
   "source": [
    "from keras.models import Model"
   ]
  },
  {
   "cell_type": "code",
   "execution_count": 16,
   "id": "wIQ1IUpwmhU9",
   "metadata": {
    "execution": {
     "iopub.execute_input": "2022-12-08T19:02:47.476199Z",
     "iopub.status.busy": "2022-12-08T19:02:47.475870Z",
     "iopub.status.idle": "2022-12-08T19:02:47.483031Z",
     "shell.execute_reply": "2022-12-08T19:02:47.481892Z",
     "shell.execute_reply.started": "2022-12-08T19:02:47.476149Z"
    },
    "id": "wIQ1IUpwmhU9"
   },
   "outputs": [],
   "source": [
    "from keras.callbacks import ReduceLROnPlateau, EarlyStopping"
   ]
  },
  {
   "cell_type": "code",
   "execution_count": 17,
   "id": "J_lmbQ_omhU9",
   "metadata": {
    "execution": {
     "iopub.execute_input": "2022-12-08T19:02:47.485154Z",
     "iopub.status.busy": "2022-12-08T19:02:47.484545Z",
     "iopub.status.idle": "2022-12-08T19:02:47.492897Z",
     "shell.execute_reply": "2022-12-08T19:02:47.491890Z",
     "shell.execute_reply.started": "2022-12-08T19:02:47.485101Z"
    },
    "id": "J_lmbQ_omhU9"
   },
   "outputs": [],
   "source": [
    "from sklearn.preprocessing import StandardScaler"
   ]
  },
  {
   "cell_type": "code",
   "execution_count": 18,
   "id": "9SwP7TySmhU-",
   "metadata": {
    "execution": {
     "iopub.execute_input": "2022-12-08T19:02:47.494402Z",
     "iopub.status.busy": "2022-12-08T19:02:47.494050Z",
     "iopub.status.idle": "2022-12-08T19:02:47.502660Z",
     "shell.execute_reply": "2022-12-08T19:02:47.501781Z",
     "shell.execute_reply.started": "2022-12-08T19:02:47.494372Z"
    },
    "id": "9SwP7TySmhU-"
   },
   "outputs": [],
   "source": [
    "from sklearn.metrics import f1_score"
   ]
  },
  {
   "cell_type": "code",
   "execution_count": 19,
   "id": "EiATFYF6mhU-",
   "metadata": {
    "execution": {
     "iopub.execute_input": "2022-12-08T19:02:47.504754Z",
     "iopub.status.busy": "2022-12-08T19:02:47.504343Z",
     "iopub.status.idle": "2022-12-08T19:02:47.511666Z",
     "shell.execute_reply": "2022-12-08T19:02:47.510590Z",
     "shell.execute_reply.started": "2022-12-08T19:02:47.504721Z"
    },
    "id": "EiATFYF6mhU-"
   },
   "outputs": [],
   "source": [
    "from keras.layers import AveragePooling2D\n",
    "from tensorflow.keras import regularizers"
   ]
  },
  {
   "cell_type": "markdown",
   "id": "iNrLfMr_mhU-",
   "metadata": {
    "id": "iNrLfMr_mhU-"
   },
   "source": [
    "---------------"
   ]
  },
  {
   "cell_type": "markdown",
   "id": "1Ailw5zJmhU-",
   "metadata": {
    "id": "1Ailw5zJmhU-"
   },
   "source": [
    "## Functions"
   ]
  },
  {
   "cell_type": "code",
   "execution_count": 20,
   "id": "_loAUeUzmhU_",
   "metadata": {
    "ExecuteTime": {
     "end_time": "2022-12-03T13:17:09.662864Z",
     "start_time": "2022-12-03T13:17:09.644832Z"
    },
    "execution": {
     "iopub.execute_input": "2022-12-08T19:02:47.517184Z",
     "iopub.status.busy": "2022-12-08T19:02:47.516674Z",
     "iopub.status.idle": "2022-12-08T19:02:47.523337Z",
     "shell.execute_reply": "2022-12-08T19:02:47.522148Z",
     "shell.execute_reply.started": "2022-12-08T19:02:47.517130Z"
    },
    "id": "_loAUeUzmhU_"
   },
   "outputs": [],
   "source": [
    "def checkBalance(dataset,target_name):\n",
    "    print(\"=======================================\")\n",
    "    print(f\"Target Name : {target_name}\")\n",
    "    print(\"=======================================\")\n",
    "    print(\"value count\")\n",
    "    print(dataset[target_name].value_counts())\n",
    "    print(\"=======================================\")\n",
    "    sns.histplot(x =target_name,data = dataset)\n",
    "    plt.show()"
   ]
  },
  {
   "cell_type": "code",
   "execution_count": 21,
   "id": "XVnFeLN2mhU_",
   "metadata": {
    "ExecuteTime": {
     "end_time": "2022-12-03T13:17:11.685862Z",
     "start_time": "2022-12-03T13:17:11.677836Z"
    },
    "execution": {
     "iopub.execute_input": "2022-12-08T19:02:47.525306Z",
     "iopub.status.busy": "2022-12-08T19:02:47.524901Z",
     "iopub.status.idle": "2022-12-08T19:02:47.537293Z",
     "shell.execute_reply": "2022-12-08T19:02:47.536347Z",
     "shell.execute_reply.started": "2022-12-08T19:02:47.525269Z"
    },
    "id": "XVnFeLN2mhU_"
   },
   "outputs": [],
   "source": [
    "def check_unique(dataframe,feature_name,target_name):\n",
    "    # get a list of the unique values \n",
    "    uniqueLst = list(dataframe[feature_name].unique())\n",
    "    # the length of the unique values \n",
    "    uniquelength = len(uniqueLst)\n",
    "    # count the appenrance of each value in the dataset \n",
    "    count = dataframe[feature_name].value_counts()\n",
    "    sorted_count = count.sort_values() \n",
    "    # print some information about the feature \n",
    "    print(f\"Feature : {feature_name}\")\n",
    "    print(f\"Number of unique values : {uniquelength}\")\n",
    "    print(\"=================================\")\n",
    "    print(\"(Attack'category,count)\")\n",
    "    print(sorted_count)\n",
    "    print(\"=================================\")\n",
    "    #sns.histplot(data=, x=feature_name,hue=\"label\", kde=True)\n",
    "    sns.displot(x =feature_name,hue=target_name,data = dataframe, kind=\"kde\", multiple=\"stack\")\n",
    "    plt.show()"
   ]
  },
  {
   "cell_type": "code",
   "execution_count": 22,
   "id": "e-NuzzZHmhU_",
   "metadata": {
    "ExecuteTime": {
     "end_time": "2022-12-03T13:17:13.612793Z",
     "start_time": "2022-12-03T13:17:13.596796Z"
    },
    "execution": {
     "iopub.execute_input": "2022-12-08T19:02:47.540820Z",
     "iopub.status.busy": "2022-12-08T19:02:47.540274Z",
     "iopub.status.idle": "2022-12-08T19:02:47.546891Z",
     "shell.execute_reply": "2022-12-08T19:02:47.546009Z",
     "shell.execute_reply.started": "2022-12-08T19:02:47.540784Z"
    },
    "id": "e-NuzzZHmhU_"
   },
   "outputs": [],
   "source": [
    "def count_number_word(lst_of_lst):\n",
    "    \n",
    "    wv_lens =[]\n",
    "\n",
    "    for x in lst_of_lst:\n",
    "         wv_lens.append(len(x))\n",
    "\n",
    "    myset = set(wv_lens)\n",
    "\n",
    "    counts = [wv_lens.count(x)for x in myset]\n",
    "\n",
    "    df2 = pd.DataFrame({\n",
    "        \"number of words\":list(myset),\n",
    "        \"count\":counts\n",
    "    })\n",
    "    \n",
    "    return df2\n"
   ]
  },
  {
   "cell_type": "code",
   "execution_count": 23,
   "id": "tCofRC2xmhU_",
   "metadata": {
    "ExecuteTime": {
     "end_time": "2022-12-03T13:17:15.369521Z",
     "start_time": "2022-12-03T13:17:15.357522Z"
    },
    "execution": {
     "iopub.execute_input": "2022-12-08T19:02:47.549043Z",
     "iopub.status.busy": "2022-12-08T19:02:47.548286Z",
     "iopub.status.idle": "2022-12-08T19:02:47.556990Z",
     "shell.execute_reply": "2022-12-08T19:02:47.556013Z",
     "shell.execute_reply.started": "2022-12-08T19:02:47.549009Z"
    },
    "id": "tCofRC2xmhU_"
   },
   "outputs": [],
   "source": [
    "def padd_zeros(row,n_words):\n",
    "    # get number of words in this row\n",
    "    length = len(row)\n",
    "    # create new list that contain the value of the new length \n",
    "    new_lst = []\n",
    "    \n",
    "    for i in range(n_words):\n",
    "        if i < length:\n",
    "            new_lst.append(row[i])\n",
    "        else:\n",
    "    \n",
    "            listofzeros = [0]*100\n",
    "            new_lst.append(list(listofzeros))   \n",
    "        \n",
    "        \n",
    "    row = new_lst\n",
    "    \n",
    "    return row"
   ]
  },
  {
   "cell_type": "code",
   "execution_count": 24,
   "id": "DBUkjw6nmhVA",
   "metadata": {
    "ExecuteTime": {
     "end_time": "2022-12-03T13:17:16.875079Z",
     "start_time": "2022-12-03T13:17:16.861079Z"
    },
    "execution": {
     "iopub.execute_input": "2022-12-08T19:02:47.559542Z",
     "iopub.status.busy": "2022-12-08T19:02:47.558518Z",
     "iopub.status.idle": "2022-12-08T19:02:47.567087Z",
     "shell.execute_reply": "2022-12-08T19:02:47.566131Z",
     "shell.execute_reply.started": "2022-12-08T19:02:47.559506Z"
    },
    "id": "DBUkjw6nmhVA"
   },
   "outputs": [],
   "source": [
    "def prepare_equalWords_data(data,n_words):\n",
    "    # create a new data frame \n",
    "    nemDF = data.copy()\n",
    "    # pad zeros \n",
    "    nemDF['word_vector'] = nemDF['word_vector'].apply(lambda row: padd_zeros(row,n_words)) \n",
    "    # recount again \n",
    "    nemDF['word_count']  = nemDF['word_vector'].apply(lambda x: len(x))    \n",
    "    # encode the label to be 0 and 1 instead 1 and 2 \n",
    "    nemDF['label']  = nemDF['label'].apply(lambda x: int(x-1))    \n",
    "    \n",
    "    return nemDF"
   ]
  },
  {
   "cell_type": "code",
   "execution_count": 25,
   "id": "JZPLB-2jmhVA",
   "metadata": {
    "ExecuteTime": {
     "end_time": "2022-12-03T13:17:18.154076Z",
     "start_time": "2022-12-03T13:17:18.148084Z"
    },
    "execution": {
     "iopub.execute_input": "2022-12-08T19:02:47.570842Z",
     "iopub.status.busy": "2022-12-08T19:02:47.569731Z",
     "iopub.status.idle": "2022-12-08T19:02:47.580386Z",
     "shell.execute_reply": "2022-12-08T19:02:47.579591Z",
     "shell.execute_reply.started": "2022-12-08T19:02:47.570816Z"
    },
    "id": "JZPLB-2jmhVA"
   },
   "outputs": [],
   "source": [
    "def visualize_class(data,y):\n",
    "    plt.figure(figsize=(20,20))\n",
    "    \n",
    "    s= [v== y for v in data['label']]\n",
    "    idxs = np.flatnonzero(s)\n",
    "    idxs = np.random.choice(idxs, 5, replace=False)\n",
    "    for i, idx in enumerate(idxs):\n",
    "        plt.subplot(1,5, i+1)\n",
    "        plt.imshow(data['word_vector'][idx])\n",
    "        plt.axis('off')\n",
    "        plt.title(y)\n",
    "    plt.show()\n",
    "            \n",
    "def visualize_classes(data,classes):\n",
    "    for y in classes:\n",
    "        visualize_class(data,y)\n",
    "    "
   ]
  },
  {
   "cell_type": "code",
   "execution_count": 26,
   "id": "OgpbZs2zmhVA",
   "metadata": {
    "ExecuteTime": {
     "end_time": "2022-12-03T13:17:19.516688Z",
     "start_time": "2022-12-03T13:17:19.508723Z"
    },
    "execution": {
     "iopub.execute_input": "2022-12-08T19:02:47.582472Z",
     "iopub.status.busy": "2022-12-08T19:02:47.581480Z",
     "iopub.status.idle": "2022-12-08T19:02:47.589647Z",
     "shell.execute_reply": "2022-12-08T19:02:47.589036Z",
     "shell.execute_reply.started": "2022-12-08T19:02:47.582438Z"
    },
    "id": "OgpbZs2zmhVA"
   },
   "outputs": [],
   "source": [
    "def normalize_lst(a):\n",
    "    lst = np.array(a).reshape(-1,1)\n",
    "    scaler = preprocessing.MinMaxScaler(feature_range=(0, 1))\n",
    "    normalizedlist=scaler.fit_transform(lst)\n",
    "    return normalizedlist"
   ]
  },
  {
   "cell_type": "code",
   "execution_count": 27,
   "id": "hcujPczjmhVA",
   "metadata": {
    "ExecuteTime": {
     "end_time": "2022-12-03T13:17:20.734761Z",
     "start_time": "2022-12-03T13:17:20.717694Z"
    },
    "execution": {
     "iopub.execute_input": "2022-12-08T19:02:47.591626Z",
     "iopub.status.busy": "2022-12-08T19:02:47.590743Z",
     "iopub.status.idle": "2022-12-08T19:02:47.600110Z",
     "shell.execute_reply": "2022-12-08T19:02:47.599530Z",
     "shell.execute_reply.started": "2022-12-08T19:02:47.591591Z"
    },
    "id": "hcujPczjmhVA"
   },
   "outputs": [],
   "source": [
    "def get_words(data_frame,n_words):    \n",
    "    new_x=[]\n",
    "\n",
    "    for i in range(len(data_frame)):\n",
    "            templist= np.array([]) \n",
    "            np_word = np.array(data_frame['word_vector'][i])\n",
    "            templist= np.append(templist,np_word[:n_words])\n",
    "            \n",
    "            if(np_word.shape[0] <  n_words):\n",
    "                numeToAdd = n_words - np_word.shape[0]\n",
    "                templist= np.append(templist, np.zeros(100*numeToAdd))\n",
    "            \n",
    "            templist=templist.tolist()\n",
    "            new_x.append(templist) \n",
    "\n",
    "    return new_x"
   ]
  },
  {
   "cell_type": "code",
   "execution_count": 28,
   "id": "LT9OUkP7mhVB",
   "metadata": {
    "ExecuteTime": {
     "end_time": "2022-12-03T13:17:22.035761Z",
     "start_time": "2022-12-03T13:17:22.021039Z"
    },
    "execution": {
     "iopub.execute_input": "2022-12-08T19:02:47.602073Z",
     "iopub.status.busy": "2022-12-08T19:02:47.601267Z",
     "iopub.status.idle": "2022-12-08T19:02:47.609793Z",
     "shell.execute_reply": "2022-12-08T19:02:47.609125Z",
     "shell.execute_reply.started": "2022-12-08T19:02:47.602039Z"
    },
    "id": "LT9OUkP7mhVB"
   },
   "outputs": [],
   "source": [
    "import keras.backend as K\n",
    "def F1_score(y_true, y_pred): \n",
    "    true_positives = K.sum(K.round(K.clip(y_true * y_pred, 0, 1)))\n",
    "    possible_positives = K.sum(K.round(K.clip(y_true, 0, 1)))\n",
    "    predicted_positives = K.sum(K.round(K.clip(y_pred, 0, 1)))\n",
    "    precision = true_positives / (predicted_positives + K.epsilon())\n",
    "    recall = true_positives / (possible_positives + K.epsilon())\n",
    "    f1_val = 2*(precision*recall)/(precision+recall+K.epsilon())\n",
    "    return f1_val"
   ]
  },
  {
   "cell_type": "markdown",
   "id": "IClW23AtmhVB",
   "metadata": {
    "id": "IClW23AtmhVB"
   },
   "source": [
    "--------------"
   ]
  },
  {
   "cell_type": "markdown",
   "id": "PPloBw3zmhVB",
   "metadata": {
    "id": "PPloBw3zmhVB"
   },
   "source": [
    "### Models "
   ]
  },
  {
   "cell_type": "code",
   "execution_count": 74,
   "id": "s0-BXzWymhVB",
   "metadata": {
    "ExecuteTime": {
     "end_time": "2022-12-03T13:17:33.070744Z",
     "start_time": "2022-12-03T13:17:33.052777Z"
    },
    "execution": {
     "iopub.execute_input": "2022-12-08T19:02:54.104785Z",
     "iopub.status.busy": "2022-12-08T19:02:54.104414Z",
     "iopub.status.idle": "2022-12-08T19:02:54.115916Z",
     "shell.execute_reply": "2022-12-08T19:02:54.114658Z",
     "shell.execute_reply.started": "2022-12-08T19:02:54.104756Z"
    },
    "id": "s0-BXzWymhVB"
   },
   "outputs": [],
   "source": [
    "# dicision_tree\n",
    "decTree_CLF = DecisionTreeClassifier(random_state=0)\n",
    "# XG_boost\n",
    "xgb_CLF = xgb.XGBClassifier(objective=\"binary:logistic\", random_state=0)\n",
    "# random_forest\n",
    "rf_CLF = RandomForestClassifier(n_estimators=100, random_state=0)\n",
    "# AdaBoost\n",
    "ada_CLF = AdaBoostClassifier(n_estimators=100,random_state=0)\n",
    "# HistGradientBoostingClassifier\n",
    "gradiant_boost_CLF =  HistGradientBoostingClassifier(random_state=0)\n",
    "# CatBoostClassifier\n",
    "catBoost_CLF = CatBoostClassifier(random_state=0)\n",
    "# LGBMClassifier\n",
    "lightGBM_CLF = lgb.LGBMClassifier(random_state=0)"
   ]
  },
  {
   "cell_type": "markdown",
   "id": "V41bC-6JmhVB",
   "metadata": {
    "id": "V41bC-6JmhVB"
   },
   "source": [
    "--------"
   ]
  },
  {
   "cell_type": "markdown",
   "id": "hC2q4eS5mhVB",
   "metadata": {
    "id": "hC2q4eS5mhVB"
   },
   "source": [
    "### read the data "
   ]
  },
  {
   "cell_type": "code",
   "execution_count": null,
   "id": "lAAE01RGmhVC",
   "metadata": {
    "ExecuteTime": {
     "end_time": "2022-12-03T13:17:53.663493Z",
     "start_time": "2022-12-03T13:17:45.252974Z"
    },
    "execution": {
     "iopub.execute_input": "2022-12-08T19:02:57.297907Z",
     "iopub.status.busy": "2022-12-08T19:02:57.297552Z",
     "iopub.status.idle": "2022-12-08T19:03:15.765092Z",
     "shell.execute_reply": "2022-12-08T19:03:15.764057Z",
     "shell.execute_reply.started": "2022-12-08T19:02:57.297877Z"
    },
    "id": "lAAE01RGmhVC"
   },
   "outputs": [],
   "source": [
    "data5_2 = pd.read_csv(\"/kaggle/input/debi-ai-cs-dataset-project/data5.csv\")\n",
    "data5_2['word_vector'] = [json.loads(x) for x in data5_2['word_vector']] # list of lists "
   ]
  },
  {
   "cell_type": "code",
   "execution_count": null,
   "id": "L9-izjUxmhVC",
   "metadata": {
    "ExecuteTime": {
     "end_time": "2022-12-03T13:18:15.671709Z",
     "start_time": "2022-12-03T13:18:15.636729Z"
    },
    "execution": {
     "iopub.execute_input": "2022-12-08T19:03:15.768092Z",
     "iopub.status.busy": "2022-12-08T19:03:15.767503Z",
     "iopub.status.idle": "2022-12-08T19:03:15.808930Z",
     "shell.execute_reply": "2022-12-08T19:03:15.808072Z",
     "shell.execute_reply.started": "2022-12-08T19:03:15.768052Z"
    },
    "id": "L9-izjUxmhVC",
    "outputId": "54d334e6-fd00-4b90-8caf-b176a7cbe3c6"
   },
   "outputs": [
    {
     "data": {
      "text/html": [
       "<div>\n",
       "<style scoped>\n",
       "    .dataframe tbody tr th:only-of-type {\n",
       "        vertical-align: middle;\n",
       "    }\n",
       "\n",
       "    .dataframe tbody tr th {\n",
       "        vertical-align: top;\n",
       "    }\n",
       "\n",
       "    .dataframe thead th {\n",
       "        text-align: right;\n",
       "    }\n",
       "</style>\n",
       "<table border=\"1\" class=\"dataframe\">\n",
       "  <thead>\n",
       "    <tr style=\"text-align: right;\">\n",
       "      <th></th>\n",
       "      <th>Unnamed: 0</th>\n",
       "      <th>category</th>\n",
       "      <th>word_vector</th>\n",
       "      <th>label</th>\n",
       "      <th>word_count</th>\n",
       "    </tr>\n",
       "  </thead>\n",
       "  <tbody>\n",
       "    <tr>\n",
       "      <th>0</th>\n",
       "      <td>0</td>\n",
       "      <td>24</td>\n",
       "      <td>[[-0.507, -0.49518, 0.46885, 0.54524, -0.11552...</td>\n",
       "      <td>1</td>\n",
       "      <td>5</td>\n",
       "    </tr>\n",
       "    <tr>\n",
       "      <th>1</th>\n",
       "      <td>1</td>\n",
       "      <td>13</td>\n",
       "      <td>[[0.19911, -0.46156, 0.19674, -1.3298, 0.51805...</td>\n",
       "      <td>0</td>\n",
       "      <td>5</td>\n",
       "    </tr>\n",
       "    <tr>\n",
       "      <th>2</th>\n",
       "      <td>2</td>\n",
       "      <td>24</td>\n",
       "      <td>[[-0.7403, -0.78746, 0.47018, 0.43474, 0.05842...</td>\n",
       "      <td>0</td>\n",
       "      <td>5</td>\n",
       "    </tr>\n",
       "    <tr>\n",
       "      <th>3</th>\n",
       "      <td>3</td>\n",
       "      <td>21</td>\n",
       "      <td>[[-0.44257, -0.54624, 0.25403, 0.80731, 1.026,...</td>\n",
       "      <td>0</td>\n",
       "      <td>5</td>\n",
       "    </tr>\n",
       "    <tr>\n",
       "      <th>4</th>\n",
       "      <td>4</td>\n",
       "      <td>13</td>\n",
       "      <td>[[0.19911, -0.46156, 0.19674, -1.3298, 0.51805...</td>\n",
       "      <td>1</td>\n",
       "      <td>5</td>\n",
       "    </tr>\n",
       "  </tbody>\n",
       "</table>\n",
       "</div>"
      ],
      "text/plain": [
       "   Unnamed: 0  category                                        word_vector  \\\n",
       "0           0        24  [[-0.507, -0.49518, 0.46885, 0.54524, -0.11552...   \n",
       "1           1        13  [[0.19911, -0.46156, 0.19674, -1.3298, 0.51805...   \n",
       "2           2        24  [[-0.7403, -0.78746, 0.47018, 0.43474, 0.05842...   \n",
       "3           3        21  [[-0.44257, -0.54624, 0.25403, 0.80731, 1.026,...   \n",
       "4           4        13  [[0.19911, -0.46156, 0.19674, -1.3298, 0.51805...   \n",
       "\n",
       "   label  word_count  \n",
       "0      1           5  \n",
       "1      0           5  \n",
       "2      0           5  \n",
       "3      0           5  \n",
       "4      1           5  "
      ]
     },
     "execution_count": 27,
     "metadata": {},
     "output_type": "execute_result"
    }
   ],
   "source": [
    "data5_2.head()"
   ]
  },
  {
   "cell_type": "markdown",
   "id": "dIByLyz3mhVC",
   "metadata": {
    "id": "dIByLyz3mhVC"
   },
   "source": [
    "### make each row as only one list instead of list of lists "
   ]
  },
  {
   "cell_type": "code",
   "execution_count": null,
   "id": "EnWa_yT8mhVC",
   "metadata": {
    "ExecuteTime": {
     "end_time": "2022-12-03T13:18:36.830571Z",
     "start_time": "2022-12-03T13:18:31.861037Z"
    },
    "execution": {
     "iopub.execute_input": "2022-12-08T19:03:15.810848Z",
     "iopub.status.busy": "2022-12-08T19:03:15.810054Z",
     "iopub.status.idle": "2022-12-08T19:03:26.956534Z",
     "shell.execute_reply": "2022-12-08T19:03:26.955502Z",
     "shell.execute_reply.started": "2022-12-08T19:03:15.810819Z"
    },
    "id": "EnWa_yT8mhVC"
   },
   "outputs": [],
   "source": [
    "X_oneLstPerRow = get_words(data5_2,5)"
   ]
  },
  {
   "cell_type": "code",
   "execution_count": null,
   "id": "yJS9BL8lmhVC",
   "metadata": {
    "ExecuteTime": {
     "end_time": "2022-12-03T13:18:36.846542Z",
     "start_time": "2022-12-03T13:18:36.831541Z"
    },
    "execution": {
     "iopub.execute_input": "2022-12-08T19:03:26.959839Z",
     "iopub.status.busy": "2022-12-08T19:03:26.959439Z",
     "iopub.status.idle": "2022-12-08T19:03:26.966544Z",
     "shell.execute_reply": "2022-12-08T19:03:26.965521Z",
     "shell.execute_reply.started": "2022-12-08T19:03:26.959800Z"
    },
    "id": "yJS9BL8lmhVC",
    "outputId": "5bfc2a63-4a91-416c-87ee-466d73020423"
   },
   "outputs": [
    {
     "data": {
      "text/plain": [
       "123040"
      ]
     },
     "execution_count": 29,
     "metadata": {},
     "output_type": "execute_result"
    }
   ],
   "source": [
    "len(X_oneLstPerRow)"
   ]
  },
  {
   "cell_type": "markdown",
   "id": "DMH3VFR7mhVC",
   "metadata": {
    "id": "DMH3VFR7mhVC"
   },
   "source": [
    "### split the data "
   ]
  },
  {
   "cell_type": "code",
   "execution_count": null,
   "id": "rPPpnuremhVD",
   "metadata": {
    "ExecuteTime": {
     "end_time": "2022-12-03T13:18:38.863482Z",
     "start_time": "2022-12-03T13:18:38.853517Z"
    },
    "execution": {
     "iopub.execute_input": "2022-12-08T19:03:26.968677Z",
     "iopub.status.busy": "2022-12-08T19:03:26.967969Z",
     "iopub.status.idle": "2022-12-08T19:03:26.986186Z",
     "shell.execute_reply": "2022-12-08T19:03:26.985212Z",
     "shell.execute_reply.started": "2022-12-08T19:03:26.968641Z"
    },
    "id": "rPPpnuremhVD"
   },
   "outputs": [],
   "source": [
    "y = data5_2['label']"
   ]
  },
  {
   "cell_type": "code",
   "execution_count": null,
   "id": "jq0bD8vpmhVD",
   "metadata": {
    "ExecuteTime": {
     "end_time": "2022-12-03T13:18:40.824922Z",
     "start_time": "2022-12-03T13:18:40.741888Z"
    },
    "execution": {
     "iopub.execute_input": "2022-12-08T19:03:26.988007Z",
     "iopub.status.busy": "2022-12-08T19:03:26.987626Z",
     "iopub.status.idle": "2022-12-08T19:03:27.113020Z",
     "shell.execute_reply": "2022-12-08T19:03:27.112115Z",
     "shell.execute_reply.started": "2022-12-08T19:03:26.987966Z"
    },
    "id": "jq0bD8vpmhVD"
   },
   "outputs": [],
   "source": [
    "X_train, X_test, y_train, y_test = train_test_split(X_oneLstPerRow, y, test_size=0.2,stratify=y, random_state=1)\n",
    "\n",
    "X_train, X_val, y_train, y_val = train_test_split(X_train, y_train, test_size=0.25,stratify=y_train, random_state=1) "
   ]
  },
  {
   "cell_type": "code",
   "execution_count": null,
   "id": "DAkj6SrDmhVD",
   "metadata": {
    "ExecuteTime": {
     "end_time": "2022-12-03T13:18:43.067590Z",
     "start_time": "2022-12-03T13:18:43.045548Z"
    },
    "execution": {
     "iopub.execute_input": "2022-12-08T19:03:27.114883Z",
     "iopub.status.busy": "2022-12-08T19:03:27.114514Z",
     "iopub.status.idle": "2022-12-08T19:03:27.131174Z",
     "shell.execute_reply": "2022-12-08T19:03:27.130127Z",
     "shell.execute_reply.started": "2022-12-08T19:03:27.114843Z"
    },
    "id": "DAkj6SrDmhVD",
    "outputId": "8db48820-4363-40f5-9cd8-5bf78b5375be"
   },
   "outputs": [
    {
     "data": {
      "text/plain": [
       "label\n",
       "0        36912\n",
       "1        36912\n",
       "dtype: int64"
      ]
     },
     "execution_count": 32,
     "metadata": {},
     "output_type": "execute_result"
    }
   ],
   "source": [
    "pd.DataFrame(y_train).value_counts()"
   ]
  },
  {
   "cell_type": "code",
   "execution_count": null,
   "id": "hbjRkV90mhVD",
   "metadata": {
    "ExecuteTime": {
     "end_time": "2022-12-03T13:18:44.497692Z",
     "start_time": "2022-12-03T13:18:44.485728Z"
    },
    "execution": {
     "iopub.execute_input": "2022-12-08T19:03:27.132968Z",
     "iopub.status.busy": "2022-12-08T19:03:27.132535Z",
     "iopub.status.idle": "2022-12-08T19:03:27.144055Z",
     "shell.execute_reply": "2022-12-08T19:03:27.142897Z",
     "shell.execute_reply.started": "2022-12-08T19:03:27.132932Z"
    },
    "id": "hbjRkV90mhVD",
    "outputId": "2ba65553-f165-4333-cdd8-d9429ae9b814"
   },
   "outputs": [
    {
     "data": {
      "text/plain": [
       "label\n",
       "0        12304\n",
       "1        12304\n",
       "dtype: int64"
      ]
     },
     "execution_count": 33,
     "metadata": {},
     "output_type": "execute_result"
    }
   ],
   "source": [
    "pd.DataFrame(y_val).value_counts()"
   ]
  },
  {
   "cell_type": "code",
   "execution_count": null,
   "id": "R5NhGJUvmhVD",
   "metadata": {
    "ExecuteTime": {
     "end_time": "2022-12-03T13:19:33.349672Z",
     "start_time": "2022-12-03T13:19:33.333833Z"
    },
    "execution": {
     "iopub.execute_input": "2022-12-08T19:03:27.145831Z",
     "iopub.status.busy": "2022-12-08T19:03:27.145423Z",
     "iopub.status.idle": "2022-12-08T19:03:27.156573Z",
     "shell.execute_reply": "2022-12-08T19:03:27.155307Z",
     "shell.execute_reply.started": "2022-12-08T19:03:27.145796Z"
    },
    "id": "R5NhGJUvmhVD",
    "outputId": "d57237e3-0b3f-40e3-c0dd-640d02728d7b"
   },
   "outputs": [
    {
     "data": {
      "text/plain": [
       "label\n",
       "0        12304\n",
       "1        12304\n",
       "dtype: int64"
      ]
     },
     "execution_count": 34,
     "metadata": {},
     "output_type": "execute_result"
    }
   ],
   "source": [
    "pd.DataFrame(y_test).value_counts()"
   ]
  },
  {
   "cell_type": "markdown",
   "id": "dsLXuRoXmhVD",
   "metadata": {
    "id": "dsLXuRoXmhVD"
   },
   "source": [
    "<h3 style=\"color:maroon;\"> Normalize each word to be in 0 to 1 scale </h3>"
   ]
  },
  {
   "cell_type": "code",
   "execution_count": null,
   "id": "rh88xWMNmhVD",
   "metadata": {
    "ExecuteTime": {
     "end_time": "2022-12-03T13:19:41.590476Z",
     "start_time": "2022-12-03T13:19:37.069638Z"
    },
    "execution": {
     "iopub.execute_input": "2022-12-08T19:03:27.160327Z",
     "iopub.status.busy": "2022-12-08T19:03:27.159603Z",
     "iopub.status.idle": "2022-12-08T19:03:35.453632Z",
     "shell.execute_reply": "2022-12-08T19:03:35.452505Z",
     "shell.execute_reply.started": "2022-12-08T19:03:27.160300Z"
    },
    "id": "rh88xWMNmhVD"
   },
   "outputs": [],
   "source": [
    "#lst = np.array().reshape(-1,1)\n",
    "\n",
    "scaler  = preprocessing.StandardScaler()\n",
    "X_train = scaler.fit_transform(X_train)\n",
    "X_val   = scaler.transform(X_val)\n",
    "X_test  = scaler.transform(X_test)"
   ]
  },
  {
   "cell_type": "code",
   "execution_count": null,
   "id": "6l8XCSyrmhVE",
   "metadata": {
    "execution": {
     "iopub.execute_input": "2022-12-08T19:03:35.455817Z",
     "iopub.status.busy": "2022-12-08T19:03:35.455392Z",
     "iopub.status.idle": "2022-12-08T19:03:35.463929Z",
     "shell.execute_reply": "2022-12-08T19:03:35.462492Z",
     "shell.execute_reply.started": "2022-12-08T19:03:35.455778Z"
    },
    "id": "6l8XCSyrmhVE",
    "outputId": "fdde2937-6cc7-4c26-f45b-398d3dac5fbd"
   },
   "outputs": [
    {
     "data": {
      "text/plain": [
       "(73824, 500)"
      ]
     },
     "execution_count": 36,
     "metadata": {},
     "output_type": "execute_result"
    }
   ],
   "source": [
    "X_train.shape"
   ]
  },
  {
   "cell_type": "markdown",
   "id": "gP8JfSM4mhVE",
   "metadata": {
    "id": "gP8JfSM4mhVE"
   },
   "source": [
    "### Reshape the data so it can be used as images "
   ]
  },
  {
   "cell_type": "code",
   "execution_count": null,
   "id": "AHUUWmF8mhVE",
   "metadata": {
    "ExecuteTime": {
     "end_time": "2022-12-03T13:19:44.037966Z",
     "start_time": "2022-12-03T13:19:43.893609Z"
    },
    "execution": {
     "iopub.execute_input": "2022-12-08T19:03:35.466594Z",
     "iopub.status.busy": "2022-12-08T19:03:35.466144Z",
     "iopub.status.idle": "2022-12-08T19:03:35.697539Z",
     "shell.execute_reply": "2022-12-08T19:03:35.696359Z",
     "shell.execute_reply.started": "2022-12-08T19:03:35.466557Z"
    },
    "id": "AHUUWmF8mhVE"
   },
   "outputs": [],
   "source": [
    "X_train_reshaped =np.array([*X_train]).reshape(len(X_train),5,100,1)\n",
    "X_val_reshaped   =np.array([*X_val]).reshape(len(X_val),5,100,1)\n",
    "X_test_reshaped  =np.array([*X_test]).reshape(len(X_test),5,100,1)"
   ]
  },
  {
   "cell_type": "code",
   "execution_count": null,
   "id": "vCEuRm6emhVE",
   "metadata": {
    "ExecuteTime": {
     "end_time": "2022-12-03T13:19:45.948642Z",
     "start_time": "2022-12-03T13:19:45.941677Z"
    },
    "execution": {
     "iopub.execute_input": "2022-12-08T19:03:35.699868Z",
     "iopub.status.busy": "2022-12-08T19:03:35.699451Z",
     "iopub.status.idle": "2022-12-08T19:03:35.707204Z",
     "shell.execute_reply": "2022-12-08T19:03:35.705949Z",
     "shell.execute_reply.started": "2022-12-08T19:03:35.699826Z"
    },
    "id": "vCEuRm6emhVE",
    "outputId": "d5996f32-03b0-4f90-b563-6d6d1689d581"
   },
   "outputs": [
    {
     "data": {
      "text/plain": [
       "(5, 100, 1)"
      ]
     },
     "execution_count": 38,
     "metadata": {},
     "output_type": "execute_result"
    }
   ],
   "source": [
    "X_train_reshaped[0].shape"
   ]
  },
  {
   "cell_type": "code",
   "execution_count": null,
   "id": "dO9hSfwlmhVE",
   "metadata": {
    "ExecuteTime": {
     "end_time": "2022-12-03T13:19:47.468638Z",
     "start_time": "2022-12-03T13:19:47.453643Z"
    },
    "execution": {
     "iopub.execute_input": "2022-12-08T19:03:35.712154Z",
     "iopub.status.busy": "2022-12-08T19:03:35.711640Z",
     "iopub.status.idle": "2022-12-08T19:03:35.719376Z",
     "shell.execute_reply": "2022-12-08T19:03:35.718120Z",
     "shell.execute_reply.started": "2022-12-08T19:03:35.712115Z"
    },
    "id": "dO9hSfwlmhVE",
    "outputId": "ad3cae67-82fc-4438-f56b-4b5dc55b5ca2"
   },
   "outputs": [
    {
     "data": {
      "text/plain": [
       "(5, 100, 1)"
      ]
     },
     "execution_count": 39,
     "metadata": {},
     "output_type": "execute_result"
    }
   ],
   "source": [
    "X_val_reshaped[0].shape"
   ]
  },
  {
   "cell_type": "code",
   "execution_count": null,
   "id": "eLe8lM0zmhVF",
   "metadata": {
    "ExecuteTime": {
     "end_time": "2022-12-03T13:19:48.722177Z",
     "start_time": "2022-12-03T13:19:48.717181Z"
    },
    "execution": {
     "iopub.execute_input": "2022-12-08T19:03:35.722409Z",
     "iopub.status.busy": "2022-12-08T19:03:35.721304Z",
     "iopub.status.idle": "2022-12-08T19:03:35.729101Z",
     "shell.execute_reply": "2022-12-08T19:03:35.728075Z",
     "shell.execute_reply.started": "2022-12-08T19:03:35.722369Z"
    },
    "id": "eLe8lM0zmhVF",
    "outputId": "0d6377bc-3a40-455c-aeb3-ffff04538a58"
   },
   "outputs": [
    {
     "data": {
      "text/plain": [
       "(5, 100, 1)"
      ]
     },
     "execution_count": 40,
     "metadata": {},
     "output_type": "execute_result"
    }
   ],
   "source": [
    "X_test_reshaped[0].shape"
   ]
  },
  {
   "cell_type": "markdown",
   "id": "BmFxTvqimhVF",
   "metadata": {
    "id": "BmFxTvqimhVF"
   },
   "source": [
    "--------"
   ]
  },
  {
   "cell_type": "markdown",
   "id": "6YdQzXQamhVG",
   "metadata": {
    "id": "6YdQzXQamhVG"
   },
   "source": [
    "<h2 style=\"color:rgb(74, 70, 11);\">Part 2</h2>"
   ]
  },
  {
   "cell_type": "markdown",
   "id": "GkQZS-ilmhVG",
   "metadata": {
    "id": "GkQZS-ilmhVG"
   },
   "source": [
    "<h3 style=\"color:maroon;\">Use CNN as a feature extractor and XGBoost as a classifier </h3>"
   ]
  },
  {
   "cell_type": "code",
   "execution_count": null,
   "id": "QPg2kpkemhVG",
   "metadata": {
    "execution": {
     "iopub.execute_input": "2022-12-08T19:03:35.731737Z",
     "iopub.status.busy": "2022-12-08T19:03:35.730880Z",
     "iopub.status.idle": "2022-12-08T19:03:35.736961Z",
     "shell.execute_reply": "2022-12-08T19:03:35.735805Z",
     "shell.execute_reply.started": "2022-12-08T19:03:35.731690Z"
    },
    "id": "QPg2kpkemhVG"
   },
   "outputs": [],
   "source": [
    "import os\n",
    "os.environ['TF_CPP_MIN_LOG_LEVEL'] = '3'"
   ]
  },
  {
   "cell_type": "code",
   "execution_count": null,
   "id": "JmrM1cwSmhVG",
   "metadata": {
    "execution": {
     "iopub.execute_input": "2022-12-08T19:03:35.739312Z",
     "iopub.status.busy": "2022-12-08T19:03:35.738278Z",
     "iopub.status.idle": "2022-12-08T19:03:35.751591Z",
     "shell.execute_reply": "2022-12-08T19:03:35.750871Z",
     "shell.execute_reply.started": "2022-12-08T19:03:35.739271Z"
    },
    "id": "JmrM1cwSmhVG"
   },
   "outputs": [],
   "source": [
    "y_train2 = np.array(y_train.values.tolist())"
   ]
  },
  {
   "cell_type": "code",
   "execution_count": null,
   "id": "3jY82sOKmhVG",
   "metadata": {
    "execution": {
     "iopub.execute_input": "2022-12-08T19:03:35.753697Z",
     "iopub.status.busy": "2022-12-08T19:03:35.752808Z",
     "iopub.status.idle": "2022-12-08T19:03:35.762213Z",
     "shell.execute_reply": "2022-12-08T19:03:35.761455Z",
     "shell.execute_reply.started": "2022-12-08T19:03:35.753659Z"
    },
    "id": "3jY82sOKmhVG"
   },
   "outputs": [],
   "source": [
    "y_val2 = np.array(y_val.values.tolist())"
   ]
  },
  {
   "cell_type": "code",
   "execution_count": null,
   "id": "rVd3uXBMmhVG",
   "metadata": {
    "execution": {
     "iopub.execute_input": "2022-12-08T19:03:36.760211Z",
     "iopub.status.busy": "2022-12-08T19:03:36.759810Z",
     "iopub.status.idle": "2022-12-08T19:03:36.767661Z",
     "shell.execute_reply": "2022-12-08T19:03:36.766460Z",
     "shell.execute_reply.started": "2022-12-08T19:03:36.760153Z"
    },
    "id": "rVd3uXBMmhVG"
   },
   "outputs": [],
   "source": [
    "y_test2 = np.array(y_test.values.tolist())"
   ]
  },
  {
   "cell_type": "markdown",
   "id": "b2203f0b",
   "metadata": {},
   "source": [
    "### Build the architecture "
   ]
  },
  {
   "cell_type": "code",
   "execution_count": null,
   "id": "Qn8V8hOJmhVH",
   "metadata": {
    "execution": {
     "iopub.execute_input": "2022-12-08T19:03:37.209780Z",
     "iopub.status.busy": "2022-12-08T19:03:37.209424Z",
     "iopub.status.idle": "2022-12-08T19:03:40.354701Z",
     "shell.execute_reply": "2022-12-08T19:03:40.353787Z",
     "shell.execute_reply.started": "2022-12-08T19:03:37.209750Z"
    },
    "id": "Qn8V8hOJmhVH",
    "outputId": "69faa9b0-c025-48de-8a4a-6cafaae35293"
   },
   "outputs": [
    {
     "name": "stdout",
     "output_type": "stream",
     "text": [
      "Model: \"sequential\"\n",
      "_________________________________________________________________\n",
      "Layer (type)                 Output Shape              Param #   \n",
      "=================================================================\n",
      "my_layer_1 (Conv2D)          (None, 5, 100, 64)        640       \n",
      "_________________________________________________________________\n",
      "batch_normalization (BatchNo (None, 5, 100, 64)        256       \n",
      "_________________________________________________________________\n",
      "my_layer_2 (Conv2D)          (None, 5, 100, 64)        36928     \n",
      "_________________________________________________________________\n",
      "batch_normalization_1 (Batch (None, 5, 100, 64)        256       \n",
      "_________________________________________________________________\n",
      "my_layer_3 (Conv2D)          (None, 5, 100, 64)        36928     \n",
      "_________________________________________________________________\n",
      "batch_normalization_2 (Batch (None, 5, 100, 64)        256       \n",
      "_________________________________________________________________\n",
      "dropout (Dropout)            (None, 5, 100, 64)        0         \n",
      "_________________________________________________________________\n",
      "my_layer_4 (Conv2D)          (None, 5, 100, 256)       409856    \n",
      "_________________________________________________________________\n",
      "batch_normalization_3 (Batch (None, 5, 100, 256)       1024      \n",
      "_________________________________________________________________\n",
      "my_layer_5 (Conv2D)          (None, 5, 100, 256)       1638656   \n",
      "_________________________________________________________________\n",
      "batch_normalization_4 (Batch (None, 5, 100, 256)       1024      \n",
      "_________________________________________________________________\n",
      "leaky_re_lu (LeakyReLU)      (None, 5, 100, 256)       0         \n",
      "_________________________________________________________________\n",
      "average_pooling2d (AveragePo (None, 2, 50, 256)        0         \n",
      "_________________________________________________________________\n",
      "dropout_1 (Dropout)          (None, 2, 50, 256)        0         \n",
      "_________________________________________________________________\n",
      "my_layer_6 (Flatten)         (None, 25600)             0         \n",
      "_________________________________________________________________\n",
      "my_layer_7 (Dense)           (None, 256)               6553856   \n",
      "_________________________________________________________________\n",
      "my_layer_8 (Dense)           (None, 128)               32896     \n",
      "_________________________________________________________________\n",
      "my_layer_9 (Dense)           (None, 1024)              132096    \n",
      "_________________________________________________________________\n",
      "my_layer_10 (Dense)          (None, 1)                 1025      \n",
      "=================================================================\n",
      "Total params: 8,845,697\n",
      "Trainable params: 8,844,289\n",
      "Non-trainable params: 1,408\n",
      "_________________________________________________________________\n"
     ]
    }
   ],
   "source": [
    "model_5 = Sequential()\n",
    "\n",
    "# input: 5*100 images with 1 channels -> (5, 100, 1) tensors.\n",
    "\n",
    "# this applies 32 convolution filters of size 3x3 each.\n",
    "model_5.add(Conv2D(64, (3, 3), activation='relu', input_shape=(5, 100, 1),padding='same', name='my_layer_1') )\n",
    "model_5.add(BatchNormalization(momentum=0.9, epsilon=1e-5, gamma_initializer=\"uniform\"))\n",
    "\n",
    "model_5.add(Conv2D(64, (3, 3), activation='relu',padding='same', name='my_layer_2') )\n",
    "model_5.add(BatchNormalization(momentum=0.9, epsilon=1e-5, gamma_initializer=\"uniform\"))\n",
    "\n",
    "model_5.add(Conv2D(64, (3, 3), activation='relu',padding='same', name='my_layer_3') )\n",
    "model_5.add(BatchNormalization(momentum=0.9, epsilon=1e-5, gamma_initializer=\"uniform\"))\n",
    "model_5.add(Dropout(0.25))\n",
    "\n",
    "model_5.add(Conv2D(256, kernel_size=5, activation='relu',padding='same', name='my_layer_4') )\n",
    "model_5.add(BatchNormalization(momentum=0.9, epsilon=1e-5, gamma_initializer=\"uniform\"))\n",
    "\n",
    "model_5.add(Conv2D(256, kernel_size=5, activation='relu',padding='same', name='my_layer_5') )\n",
    "model_5.add(BatchNormalization(momentum=0.9, epsilon=1e-5, gamma_initializer=\"uniform\"))\n",
    "model_5.add(LeakyReLU(alpha=0.1))\n",
    "\n",
    "model_5.add(AveragePooling2D(pool_size=(2, 2)))\n",
    "model_5.add(Dropout(0.25))\n",
    "\n",
    "model_5.add(Flatten(name='my_layer_6'))\n",
    "\n",
    "#model = keras.applications.inception_v3.InceptionV3(weights= None, include_top=False, input_shape= (28,28,1))\n",
    "model_5.add(Dense(256, activation='relu' , name='my_layer_7') )\n",
    "model_5.add(Dense(128, activation='relu' , name='my_layer_8') )\n",
    "model_5.add(Dense(units=1024,activation='relu',\n",
    "        kernel_regularizer=regularizers.L1L2(l1=1e-4, l2=1e-4),\n",
    "        bias_regularizer=regularizers.L2(1e-4),\n",
    "        activity_regularizer=regularizers.L2(1e-4) ,name='my_layer_9'))\n",
    "\n",
    "model_5.add(Dense(1, activation='sigmoid' ,name='my_layer_10'))\n",
    "\n",
    "model_5.summary()"
   ]
  },
  {
   "cell_type": "code",
   "execution_count": null,
   "id": "ofGJNK_cmhVH",
   "metadata": {
    "execution": {
     "iopub.execute_input": "2022-12-08T19:03:51.529778Z",
     "iopub.status.busy": "2022-12-08T19:03:51.529061Z",
     "iopub.status.idle": "2022-12-08T19:03:51.535230Z",
     "shell.execute_reply": "2022-12-08T19:03:51.534224Z",
     "shell.execute_reply.started": "2022-12-08T19:03:51.529740Z"
    },
    "id": "ofGJNK_cmhVH"
   },
   "outputs": [],
   "source": [
    "reduce_lr = ReduceLROnPlateau(monitor='val_loss', factor=0.1, patience=5, verbose=1)\n",
    "# early_stopping = EarlyStopping(monitor='val_loss', min_delta=0, patience=20, verbose=1)"
   ]
  },
  {
   "cell_type": "code",
   "execution_count": null,
   "id": "G4Ezp2-PmhVH",
   "metadata": {
    "execution": {
     "iopub.execute_input": "2022-12-08T20:24:27.513289Z",
     "iopub.status.busy": "2022-12-08T20:24:27.512865Z",
     "iopub.status.idle": "2022-12-08T20:24:27.520155Z",
     "shell.execute_reply": "2022-12-08T20:24:27.519230Z",
     "shell.execute_reply.started": "2022-12-08T20:24:27.513242Z"
    },
    "id": "G4Ezp2-PmhVH"
   },
   "outputs": [],
   "source": [
    "plot_loss_3 = PlotLossesCallback()\n",
    "\n",
    "# ModelCheckpoint callback - save best weights\n",
    "tl_checkpoint_3 = ModelCheckpoint(filepath='tl_model_5_cnnxgboost.weights.best.hdf5',\n",
    "                                  save_best_only=True,\n",
    "                                  verbose=1)\n",
    "\n",
    "# EarlyStopping\n",
    "early_stop = EarlyStopping(monitor='val_loss',\n",
    "                           patience=10,\n",
    "                           restore_best_weights=True,\n",
    "                           mode='min')\n",
    "\n"
   ]
  },
  {
   "cell_type": "code",
   "execution_count": null,
   "id": "zqR1MfJgmhVH",
   "metadata": {
    "execution": {
     "iopub.execute_input": "2022-12-08T15:52:11.905502Z",
     "iopub.status.busy": "2022-12-08T15:52:11.904451Z",
     "iopub.status.idle": "2022-12-08T17:01:17.516858Z",
     "shell.execute_reply": "2022-12-08T17:01:17.515909Z",
     "shell.execute_reply.started": "2022-12-08T15:52:11.905462Z"
    },
    "id": "zqR1MfJgmhVH",
    "outputId": "d58500b6-b2dc-4b77-eeed-98d8fad51f52"
   },
   "outputs": [
    {
     "data": {
      "image/png": "[encoded data removed]",
      "text/plain": [
       "<Figure size 864x576 with 2 Axes>"
      ]
     },
     "metadata": {
      "needs_background": "light"
     },
     "output_type": "display_data"
    },
    {
     "name": "stdout",
     "output_type": "stream",
     "text": [
      "F1_score\n",
      "\ttraining         \t (min:    0.691, max:    0.786, cur:    0.774)\n",
      "\tvalidation       \t (min:    0.712, max:    0.814, cur:    0.726)\n",
      "Loss\n",
      "\ttraining         \t (min:    0.316, max:    1.057, cur:    0.316)\n",
      "\tvalidation       \t (min:    0.326, max:    0.885, cur:    0.326)\n"
     ]
    }
   ],
   "source": [
    "model_5.compile(loss='binary_crossentropy',optimizer=SGD(),metrics=[F1_score])\n",
    "\n",
    "history_model_5=model_5.fit(x=X_train_reshaped , y=y_train2 ,batch_size = 64,verbose=1, epochs = 100,validation_data=(X_val_reshaped,y_val2)   , callbacks=[tl_checkpoint_3, early_stop, plot_loss_3,reduce_lr])\n"
   ]
  },
  {
   "cell_type": "code",
   "execution_count": null,
   "id": "OtyyJX8_mhVI",
   "metadata": {
    "execution": {
     "iopub.execute_input": "2022-12-08T19:23:56.355812Z",
     "iopub.status.busy": "2022-12-08T19:23:56.355038Z",
     "iopub.status.idle": "2022-12-08T19:24:01.672079Z",
     "shell.execute_reply": "2022-12-08T19:24:01.670906Z",
     "shell.execute_reply.started": "2022-12-08T19:23:56.355775Z"
    },
    "id": "OtyyJX8_mhVI",
    "outputId": "865c1ce8-00c0-4730-ac46-d595c4824cdf"
   },
   "outputs": [
    {
     "name": "stdout",
     "output_type": "stream",
     "text": [
      "0.8155147033651706\n"
     ]
    }
   ],
   "source": [
    "preds_test = model_5.predict(X_test_reshaped)\n",
    "pred_classes_test = [int(round(i[0])) for i in preds_test]\n",
    "f1_score_value_test = f1_score(y_test, pred_classes_test)\n",
    "\n",
    "\n",
    "print(f1_score_value_test)\n"
   ]
  },
  {
   "cell_type": "markdown",
   "id": "7dbc7eca",
   "metadata": {},
   "source": [
    "----------------------"
   ]
  },
  {
   "cell_type": "markdown",
   "id": "c0373cbd",
   "metadata": {},
   "source": [
    "### Get the feature from \"my_layer_7\" layer and feed it to Xgboost "
   ]
  },
  {
   "cell_type": "code",
   "execution_count": null,
   "id": "fdT_ZeH7mhVI",
   "metadata": {
    "ExecuteTime": {
     "end_time": "2022-12-03T14:06:09.369279Z",
     "start_time": "2022-12-03T14:06:09.349271Z"
    },
    "execution": {
     "iopub.execute_input": "2022-12-08T19:04:13.795474Z",
     "iopub.status.busy": "2022-12-08T19:04:13.794402Z",
     "iopub.status.idle": "2022-12-08T19:04:13.809587Z",
     "shell.execute_reply": "2022-12-08T19:04:13.808613Z",
     "shell.execute_reply.started": "2022-12-08T19:04:13.795434Z"
    },
    "id": "fdT_ZeH7mhVI",
    "outputId": "0c149e8c-09be-4ceb-c5e5-6b0b20fe098f"
   },
   "outputs": [
    {
     "name": "stdout",
     "output_type": "stream",
     "text": [
      "Model: \"model\"\n",
      "_________________________________________________________________\n",
      "Layer (type)                 Output Shape              Param #   \n",
      "=================================================================\n",
      "my_layer_1_input (InputLayer [(None, 5, 100, 1)]       0         \n",
      "_________________________________________________________________\n",
      "my_layer_1 (Conv2D)          (None, 5, 100, 64)        640       \n",
      "_________________________________________________________________\n",
      "batch_normalization (BatchNo (None, 5, 100, 64)        256       \n",
      "_________________________________________________________________\n",
      "my_layer_2 (Conv2D)          (None, 5, 100, 64)        36928     \n",
      "_________________________________________________________________\n",
      "batch_normalization_1 (Batch (None, 5, 100, 64)        256       \n",
      "_________________________________________________________________\n",
      "my_layer_3 (Conv2D)          (None, 5, 100, 64)        36928     \n",
      "_________________________________________________________________\n",
      "batch_normalization_2 (Batch (None, 5, 100, 64)        256       \n",
      "_________________________________________________________________\n",
      "dropout (Dropout)            (None, 5, 100, 64)        0         \n",
      "_________________________________________________________________\n",
      "my_layer_4 (Conv2D)          (None, 5, 100, 256)       409856    \n",
      "_________________________________________________________________\n",
      "batch_normalization_3 (Batch (None, 5, 100, 256)       1024      \n",
      "_________________________________________________________________\n",
      "my_layer_5 (Conv2D)          (None, 5, 100, 256)       1638656   \n",
      "_________________________________________________________________\n",
      "batch_normalization_4 (Batch (None, 5, 100, 256)       1024      \n",
      "_________________________________________________________________\n",
      "leaky_re_lu (LeakyReLU)      (None, 5, 100, 256)       0         \n",
      "_________________________________________________________________\n",
      "average_pooling2d (AveragePo (None, 2, 50, 256)        0         \n",
      "_________________________________________________________________\n",
      "dropout_1 (Dropout)          (None, 2, 50, 256)        0         \n",
      "_________________________________________________________________\n",
      "my_layer_6 (Flatten)         (None, 25600)             0         \n",
      "_________________________________________________________________\n",
      "my_layer_7 (Dense)           (None, 256)               6553856   \n",
      "=================================================================\n",
      "Total params: 8,679,680\n",
      "Trainable params: 8,678,272\n",
      "Non-trainable params: 1,408\n",
      "_________________________________________________________________\n"
     ]
    }
   ],
   "source": [
    "layer_name='my_layer_7'\n",
    "intermediate_layer_model = Model(inputs=model_5.input,\n",
    "                                 outputs=model_5.get_layer(layer_name).output)\n",
    "\n",
    "intermediate_layer_model.summary()"
   ]
  },
  {
   "cell_type": "code",
   "execution_count": null,
   "id": "gpFhH8fTmhVI",
   "metadata": {
    "execution": {
     "iopub.execute_input": "2022-12-08T19:05:09.611605Z",
     "iopub.status.busy": "2022-12-08T19:05:09.611177Z",
     "iopub.status.idle": "2022-12-08T19:05:30.659730Z",
     "shell.execute_reply": "2022-12-08T19:05:30.658699Z",
     "shell.execute_reply.started": "2022-12-08T19:05:09.611574Z"
    },
    "id": "gpFhH8fTmhVI"
   },
   "outputs": [],
   "source": [
    "intermediate_output_layer_7 = intermediate_layer_model.predict(X_train_reshaped) \n",
    "intermediate_output_layer_7 = pd.DataFrame(data=intermediate_output_layer_7)"
   ]
  },
  {
   "cell_type": "code",
   "execution_count": null,
   "id": "JMPAZVSCmhVI",
   "metadata": {
    "execution": {
     "iopub.execute_input": "2022-12-08T19:05:38.202860Z",
     "iopub.status.busy": "2022-12-08T19:05:38.202456Z",
     "iopub.status.idle": "2022-12-08T19:05:43.458641Z",
     "shell.execute_reply": "2022-12-08T19:05:43.457488Z",
     "shell.execute_reply.started": "2022-12-08T19:05:38.202825Z"
    },
    "id": "JMPAZVSCmhVI"
   },
   "outputs": [],
   "source": [
    "intermediate_test_output_layer_7 = intermediate_layer_model.predict(X_test_reshaped)\n",
    "intermediate_test_output_layer_7 = pd.DataFrame(data=intermediate_test_output_layer_7)"
   ]
  },
  {
   "cell_type": "code",
   "execution_count": null,
   "id": "zhsK8aM6mhVJ",
   "metadata": {
    "execution": {
     "iopub.execute_input": "2022-12-08T19:05:45.676898Z",
     "iopub.status.busy": "2022-12-08T19:05:45.675866Z",
     "iopub.status.idle": "2022-12-08T19:06:59.630896Z",
     "shell.execute_reply": "2022-12-08T19:06:59.629820Z",
     "shell.execute_reply.started": "2022-12-08T19:05:45.676859Z"
    },
    "id": "zhsK8aM6mhVJ",
    "outputId": "4b7fac3c-6fd0-4dfb-cd1b-280e8f0f3b12"
   },
   "outputs": [
    {
     "data": {
      "text/plain": [
       "XGBClassifier(base_score=0.5, booster='gbtree', callbacks=None,\n",
       "              colsample_bylevel=1, colsample_bynode=1, colsample_bytree=1,\n",
       "              early_stopping_rounds=None, enable_categorical=False,\n",
       "              eval_metric=None, gamma=0, gpu_id=-1, grow_policy='depthwise',\n",
       "              importance_type=None, interaction_constraints='',\n",
       "              learning_rate=0.300000012, max_bin=256, max_cat_to_onehot=4,\n",
       "              max_delta_step=0, max_depth=6, max_leaves=0, min_child_weight=1,\n",
       "              missing=nan, monotone_constraints='()', n_estimators=100,\n",
       "              n_jobs=0, num_parallel_tree=1, predictor='auto', random_state=0,\n",
       "              reg_alpha=0, reg_lambda=1, ...)"
      ]
     },
     "execution_count": 51,
     "metadata": {},
     "output_type": "execute_result"
    }
   ],
   "source": [
    "xgb_CLF.fit(intermediate_output_layer_7,y_train2)"
   ]
  },
  {
   "cell_type": "code",
   "execution_count": null,
   "id": "MUN5g8U3mhVJ",
   "metadata": {
    "execution": {
     "iopub.execute_input": "2022-12-08T19:07:10.783336Z",
     "iopub.status.busy": "2022-12-08T19:07:10.782936Z",
     "iopub.status.idle": "2022-12-08T19:07:10.894306Z",
     "shell.execute_reply": "2022-12-08T19:07:10.893261Z",
     "shell.execute_reply.started": "2022-12-08T19:07:10.783301Z"
    },
    "id": "MUN5g8U3mhVJ",
    "outputId": "85a992c2-e719-4919-847b-0e58c7b4bd40"
   },
   "outputs": [
    {
     "name": "stdout",
     "output_type": "stream",
     "text": [
      "0.7142267189758414\n"
     ]
    }
   ],
   "source": [
    "preds_test_layer_7 = xgb_CLF.predict(intermediate_test_output_layer_7)\n",
    "\n",
    "f1_score_value_test_layer_7 = f1_score(y_test2, preds_test_layer_7)\n",
    "\n",
    "\n",
    "print(f1_score_value_test_layer_7)"
   ]
  },
  {
   "cell_type": "markdown",
   "id": "3a928061",
   "metadata": {},
   "source": [
    "### Get the feature from \"my_layer_8\" layer and feed it to Xgboost "
   ]
  },
  {
   "cell_type": "code",
   "execution_count": null,
   "id": "PD0zrANFmhVJ",
   "metadata": {
    "execution": {
     "iopub.execute_input": "2022-12-08T19:08:01.609097Z",
     "iopub.status.busy": "2022-12-08T19:08:01.608498Z",
     "iopub.status.idle": "2022-12-08T19:08:01.624651Z",
     "shell.execute_reply": "2022-12-08T19:08:01.623595Z",
     "shell.execute_reply.started": "2022-12-08T19:08:01.609061Z"
    },
    "id": "PD0zrANFmhVJ",
    "outputId": "8d3772d6-38a9-4c74-bc9a-2dc7c2d359bf"
   },
   "outputs": [
    {
     "name": "stdout",
     "output_type": "stream",
     "text": [
      "Model: \"model_1\"\n",
      "_________________________________________________________________\n",
      "Layer (type)                 Output Shape              Param #   \n",
      "=================================================================\n",
      "my_layer_1_input (InputLayer [(None, 5, 100, 1)]       0         \n",
      "_________________________________________________________________\n",
      "my_layer_1 (Conv2D)          (None, 5, 100, 64)        640       \n",
      "_________________________________________________________________\n",
      "batch_normalization (BatchNo (None, 5, 100, 64)        256       \n",
      "_________________________________________________________________\n",
      "my_layer_2 (Conv2D)          (None, 5, 100, 64)        36928     \n",
      "_________________________________________________________________\n",
      "batch_normalization_1 (Batch (None, 5, 100, 64)        256       \n",
      "_________________________________________________________________\n",
      "my_layer_3 (Conv2D)          (None, 5, 100, 64)        36928     \n",
      "_________________________________________________________________\n",
      "batch_normalization_2 (Batch (None, 5, 100, 64)        256       \n",
      "_________________________________________________________________\n",
      "dropout (Dropout)            (None, 5, 100, 64)        0         \n",
      "_________________________________________________________________\n",
      "my_layer_4 (Conv2D)          (None, 5, 100, 256)       409856    \n",
      "_________________________________________________________________\n",
      "batch_normalization_3 (Batch (None, 5, 100, 256)       1024      \n",
      "_________________________________________________________________\n",
      "my_layer_5 (Conv2D)          (None, 5, 100, 256)       1638656   \n",
      "_________________________________________________________________\n",
      "batch_normalization_4 (Batch (None, 5, 100, 256)       1024      \n",
      "_________________________________________________________________\n",
      "leaky_re_lu (LeakyReLU)      (None, 5, 100, 256)       0         \n",
      "_________________________________________________________________\n",
      "average_pooling2d (AveragePo (None, 2, 50, 256)        0         \n",
      "_________________________________________________________________\n",
      "dropout_1 (Dropout)          (None, 2, 50, 256)        0         \n",
      "_________________________________________________________________\n",
      "my_layer_6 (Flatten)         (None, 25600)             0         \n",
      "_________________________________________________________________\n",
      "my_layer_7 (Dense)           (None, 256)               6553856   \n",
      "_________________________________________________________________\n",
      "my_layer_8 (Dense)           (None, 128)               32896     \n",
      "=================================================================\n",
      "Total params: 8,712,576\n",
      "Trainable params: 8,711,168\n",
      "Non-trainable params: 1,408\n",
      "_________________________________________________________________\n"
     ]
    }
   ],
   "source": [
    "layer_name='my_layer_8'\n",
    "intermediate_layer_model = Model(inputs=model_5.input,\n",
    "                                 outputs=model_5.get_layer(layer_name).output)\n",
    "\n",
    "intermediate_layer_model.summary()"
   ]
  },
  {
   "cell_type": "code",
   "execution_count": null,
   "id": "5XlbwhogmhVJ",
   "metadata": {
    "execution": {
     "iopub.execute_input": "2022-12-08T19:08:07.446813Z",
     "iopub.status.busy": "2022-12-08T19:08:07.446050Z",
     "iopub.status.idle": "2022-12-08T19:08:28.424080Z",
     "shell.execute_reply": "2022-12-08T19:08:28.423039Z",
     "shell.execute_reply.started": "2022-12-08T19:08:07.446756Z"
    },
    "id": "5XlbwhogmhVJ"
   },
   "outputs": [],
   "source": [
    "intermediate_output_layer_8 = intermediate_layer_model.predict(X_train_reshaped) \n",
    "intermediate_output_layer_8 = pd.DataFrame(data=intermediate_output_layer_8)"
   ]
  },
  {
   "cell_type": "code",
   "execution_count": null,
   "id": "GCRfvDhWmhVJ",
   "metadata": {
    "execution": {
     "iopub.execute_input": "2022-12-08T19:08:33.213038Z",
     "iopub.status.busy": "2022-12-08T19:08:33.212669Z",
     "iopub.status.idle": "2022-12-08T19:08:38.476714Z",
     "shell.execute_reply": "2022-12-08T19:08:38.475681Z",
     "shell.execute_reply.started": "2022-12-08T19:08:33.213006Z"
    },
    "id": "GCRfvDhWmhVJ"
   },
   "outputs": [],
   "source": [
    "intermediate_test_output_layer_8 = intermediate_layer_model.predict(X_test_reshaped)\n",
    "intermediate_test_output_layer_8 = pd.DataFrame(data=intermediate_test_output_layer_8)"
   ]
  },
  {
   "cell_type": "code",
   "execution_count": null,
   "id": "A9BfEK2kmhVJ",
   "metadata": {
    "execution": {
     "iopub.execute_input": "2022-12-08T19:08:43.087805Z",
     "iopub.status.busy": "2022-12-08T19:08:43.087088Z",
     "iopub.status.idle": "2022-12-08T19:09:17.780265Z",
     "shell.execute_reply": "2022-12-08T19:09:17.779143Z",
     "shell.execute_reply.started": "2022-12-08T19:08:43.087767Z"
    },
    "id": "A9BfEK2kmhVJ",
    "outputId": "2b7d86ed-83f1-4e72-a694-ee3cc0cb71b3"
   },
   "outputs": [
    {
     "data": {
      "text/plain": [
       "XGBClassifier(base_score=0.5, booster='gbtree', callbacks=None,\n",
       "              colsample_bylevel=1, colsample_bynode=1, colsample_bytree=1,\n",
       "              early_stopping_rounds=None, enable_categorical=False,\n",
       "              eval_metric=None, gamma=0, gpu_id=-1, grow_policy='depthwise',\n",
       "              importance_type=None, interaction_constraints='',\n",
       "              learning_rate=0.300000012, max_bin=256, max_cat_to_onehot=4,\n",
       "              max_delta_step=0, max_depth=6, max_leaves=0, min_child_weight=1,\n",
       "              missing=nan, monotone_constraints='()', n_estimators=100,\n",
       "              n_jobs=0, num_parallel_tree=1, predictor='auto', random_state=0,\n",
       "              reg_alpha=0, reg_lambda=1, ...)"
      ]
     },
     "execution_count": 56,
     "metadata": {},
     "output_type": "execute_result"
    }
   ],
   "source": [
    "xgb_CLF.fit(intermediate_output_layer_8,y_train2)"
   ]
  },
  {
   "cell_type": "code",
   "execution_count": null,
   "id": "nqdYrWTGmhVJ",
   "metadata": {
    "execution": {
     "iopub.execute_input": "2022-12-08T19:09:26.017292Z",
     "iopub.status.busy": "2022-12-08T19:09:26.016900Z",
     "iopub.status.idle": "2022-12-08T19:09:26.098400Z",
     "shell.execute_reply": "2022-12-08T19:09:26.097592Z",
     "shell.execute_reply.started": "2022-12-08T19:09:26.017259Z"
    },
    "id": "nqdYrWTGmhVJ",
    "outputId": "cded72fd-871f-4fb7-d0ab-cff21172508f"
   },
   "outputs": [
    {
     "name": "stdout",
     "output_type": "stream",
     "text": [
      "0.7139389557403295\n"
     ]
    }
   ],
   "source": [
    "preds_test_layer_8 = xgb_CLF.predict(intermediate_test_output_layer_8)\n",
    "\n",
    "f1_score_value_test_layer_8 = f1_score(y_test2, preds_test_layer_8)\n",
    "\n",
    "\n",
    "print(f1_score_value_test_layer_8)"
   ]
  },
  {
   "cell_type": "markdown",
   "id": "32a935c5",
   "metadata": {},
   "source": [
    "### Get the feature from \"my_layer_9\" layer and feed it to Xgboost "
   ]
  },
  {
   "cell_type": "code",
   "execution_count": null,
   "id": "vFVHrcSMmhVK",
   "metadata": {
    "execution": {
     "iopub.execute_input": "2022-12-08T19:09:28.585351Z",
     "iopub.status.busy": "2022-12-08T19:09:28.584955Z",
     "iopub.status.idle": "2022-12-08T19:09:28.600032Z",
     "shell.execute_reply": "2022-12-08T19:09:28.598592Z",
     "shell.execute_reply.started": "2022-12-08T19:09:28.585316Z"
    },
    "id": "vFVHrcSMmhVK",
    "outputId": "89403c21-b4e9-4c19-e76b-6627561f8a9a"
   },
   "outputs": [
    {
     "name": "stdout",
     "output_type": "stream",
     "text": [
      "Model: \"model_2\"\n",
      "_________________________________________________________________\n",
      "Layer (type)                 Output Shape              Param #   \n",
      "=================================================================\n",
      "my_layer_1_input (InputLayer [(None, 5, 100, 1)]       0         \n",
      "_________________________________________________________________\n",
      "my_layer_1 (Conv2D)          (None, 5, 100, 64)        640       \n",
      "_________________________________________________________________\n",
      "batch_normalization (BatchNo (None, 5, 100, 64)        256       \n",
      "_________________________________________________________________\n",
      "my_layer_2 (Conv2D)          (None, 5, 100, 64)        36928     \n",
      "_________________________________________________________________\n",
      "batch_normalization_1 (Batch (None, 5, 100, 64)        256       \n",
      "_________________________________________________________________\n",
      "my_layer_3 (Conv2D)          (None, 5, 100, 64)        36928     \n",
      "_________________________________________________________________\n",
      "batch_normalization_2 (Batch (None, 5, 100, 64)        256       \n",
      "_________________________________________________________________\n",
      "dropout (Dropout)            (None, 5, 100, 64)        0         \n",
      "_________________________________________________________________\n",
      "my_layer_4 (Conv2D)          (None, 5, 100, 256)       409856    \n",
      "_________________________________________________________________\n",
      "batch_normalization_3 (Batch (None, 5, 100, 256)       1024      \n",
      "_________________________________________________________________\n",
      "my_layer_5 (Conv2D)          (None, 5, 100, 256)       1638656   \n",
      "_________________________________________________________________\n",
      "batch_normalization_4 (Batch (None, 5, 100, 256)       1024      \n",
      "_________________________________________________________________\n",
      "leaky_re_lu (LeakyReLU)      (None, 5, 100, 256)       0         \n",
      "_________________________________________________________________\n",
      "average_pooling2d (AveragePo (None, 2, 50, 256)        0         \n",
      "_________________________________________________________________\n",
      "dropout_1 (Dropout)          (None, 2, 50, 256)        0         \n",
      "_________________________________________________________________\n",
      "my_layer_6 (Flatten)         (None, 25600)             0         \n",
      "_________________________________________________________________\n",
      "my_layer_7 (Dense)           (None, 256)               6553856   \n",
      "_________________________________________________________________\n",
      "my_layer_8 (Dense)           (None, 128)               32896     \n",
      "_________________________________________________________________\n",
      "my_layer_9 (Dense)           (None, 1024)              132096    \n",
      "=================================================================\n",
      "Total params: 8,844,672\n",
      "Trainable params: 8,843,264\n",
      "Non-trainable params: 1,408\n",
      "_________________________________________________________________\n"
     ]
    }
   ],
   "source": [
    "layer_name='my_layer_9'\n",
    "intermediate_layer_model = Model(inputs=model_5.input,\n",
    "                                 outputs=model_5.get_layer(layer_name).output)\n",
    "\n",
    "intermediate_layer_model.summary()"
   ]
  },
  {
   "cell_type": "code",
   "execution_count": null,
   "id": "Ew_2uGHamhVK",
   "metadata": {
    "execution": {
     "iopub.execute_input": "2022-12-08T19:09:32.493366Z",
     "iopub.status.busy": "2022-12-08T19:09:32.492458Z",
     "iopub.status.idle": "2022-12-08T19:09:45.900453Z",
     "shell.execute_reply": "2022-12-08T19:09:45.899151Z",
     "shell.execute_reply.started": "2022-12-08T19:09:32.493327Z"
    },
    "id": "Ew_2uGHamhVK"
   },
   "outputs": [],
   "source": [
    "intermediate_output_layer_9 = intermediate_layer_model.predict(X_train_reshaped) \n",
    "intermediate_output_layer_9 = pd.DataFrame(data=intermediate_output_layer_9)"
   ]
  },
  {
   "cell_type": "code",
   "execution_count": null,
   "id": "uNGZ7C_8mhVK",
   "metadata": {
    "execution": {
     "iopub.execute_input": "2022-12-08T19:09:51.854013Z",
     "iopub.status.busy": "2022-12-08T19:09:51.853602Z",
     "iopub.status.idle": "2022-12-08T19:09:57.116441Z",
     "shell.execute_reply": "2022-12-08T19:09:57.115358Z",
     "shell.execute_reply.started": "2022-12-08T19:09:51.853980Z"
    },
    "id": "uNGZ7C_8mhVK"
   },
   "outputs": [],
   "source": [
    "intermediate_test_output_layer_9 = intermediate_layer_model.predict(X_test_reshaped)\n",
    "intermediate_test_output_layer_9 = pd.DataFrame(data=intermediate_test_output_layer_9)"
   ]
  },
  {
   "cell_type": "code",
   "execution_count": null,
   "id": "lOY5WJLbmhVK",
   "metadata": {
    "execution": {
     "iopub.execute_input": "2022-12-08T19:09:59.864628Z",
     "iopub.status.busy": "2022-12-08T19:09:59.863732Z",
     "iopub.status.idle": "2022-12-08T19:14:27.194451Z",
     "shell.execute_reply": "2022-12-08T19:14:27.193463Z",
     "shell.execute_reply.started": "2022-12-08T19:09:59.864580Z"
    },
    "id": "lOY5WJLbmhVK",
    "outputId": "75d54537-4e17-416e-c78f-05e41a978ba0"
   },
   "outputs": [
    {
     "data": {
      "text/plain": [
       "XGBClassifier(base_score=0.5, booster='gbtree', callbacks=None,\n",
       "              colsample_bylevel=1, colsample_bynode=1, colsample_bytree=1,\n",
       "              early_stopping_rounds=None, enable_categorical=False,\n",
       "              eval_metric=None, gamma=0, gpu_id=-1, grow_policy='depthwise',\n",
       "              importance_type=None, interaction_constraints='',\n",
       "              learning_rate=0.300000012, max_bin=256, max_cat_to_onehot=4,\n",
       "              max_delta_step=0, max_depth=6, max_leaves=0, min_child_weight=1,\n",
       "              missing=nan, monotone_constraints='()', n_estimators=100,\n",
       "              n_jobs=0, num_parallel_tree=1, predictor='auto', random_state=0,\n",
       "              reg_alpha=0, reg_lambda=1, ...)"
      ]
     },
     "execution_count": 61,
     "metadata": {},
     "output_type": "execute_result"
    }
   ],
   "source": [
    "xgb_CLF.fit(intermediate_output_layer_9,y_train2)"
   ]
  },
  {
   "cell_type": "code",
   "execution_count": null,
   "id": "PMKmERijmhVK",
   "metadata": {
    "execution": {
     "iopub.execute_input": "2022-12-08T19:15:06.995671Z",
     "iopub.status.busy": "2022-12-08T19:15:06.995286Z",
     "iopub.status.idle": "2022-12-08T19:15:07.245458Z",
     "shell.execute_reply": "2022-12-08T19:15:07.244545Z",
     "shell.execute_reply.started": "2022-12-08T19:15:06.995631Z"
    },
    "id": "PMKmERijmhVK",
    "outputId": "1b52553d-258e-4d47-a295-a40a684408f2"
   },
   "outputs": [
    {
     "name": "stdout",
     "output_type": "stream",
     "text": [
      "0.7138429752066116\n"
     ]
    }
   ],
   "source": [
    "preds_test_layer_9 = xgb_CLF.predict(intermediate_test_output_layer_9)\n",
    "\n",
    "f1_score_value_test_layer_9 = f1_score(y_test2, preds_test_layer_9)\n",
    "\n",
    "\n",
    "print(f1_score_value_test_layer_9)"
   ]
  },
  {
   "cell_type": "markdown",
   "id": "e0e95a0d",
   "metadata": {},
   "source": [
    "------------------------"
   ]
  },
  {
   "cell_type": "markdown",
   "id": "X5FaPDHdmhVM",
   "metadata": {
    "id": "X5FaPDHdmhVM"
   },
   "source": [
    "### Get the feature from \"my_layer_7\" layer and feed it to Random forest "
   ]
  },
  {
   "cell_type": "code",
   "execution_count": null,
   "id": "RZsj4RPDmhVM",
   "metadata": {
    "execution": {
     "iopub.execute_input": "2022-12-08T20:04:24.097024Z",
     "iopub.status.busy": "2022-12-08T20:04:24.096665Z",
     "iopub.status.idle": "2022-12-08T20:04:44.688024Z",
     "shell.execute_reply": "2022-12-08T20:04:44.686909Z",
     "shell.execute_reply.started": "2022-12-08T20:04:24.096992Z"
    },
    "id": "RZsj4RPDmhVM",
    "outputId": "e8af29a1-9900-40df-b58a-865fa5966b35"
   },
   "outputs": [
    {
     "data": {
      "text/plain": [
       "RandomForestClassifier(max_depth=100, random_state=0)"
      ]
     },
     "execution_count": 101,
     "metadata": {},
     "output_type": "execute_result"
    }
   ],
   "source": [
    "from sklearn.ensemble import RandomForestClassifier\n",
    "    \n",
    "RF_part2 = RandomForestClassifier(max_depth=100, random_state=0)"
   ]
  },
  {
   "cell_type": "code",
   "execution_count": null,
   "id": "9yTnPqSLmhVN",
   "metadata": {
    "execution": {
     "iopub.execute_input": "2022-12-08T20:10:26.529319Z",
     "iopub.status.busy": "2022-12-08T20:10:26.528931Z",
     "iopub.status.idle": "2022-12-08T20:10:46.744198Z",
     "shell.execute_reply": "2022-12-08T20:10:46.743136Z",
     "shell.execute_reply.started": "2022-12-08T20:10:26.529287Z"
    },
    "id": "9yTnPqSLmhVN",
    "outputId": "2e63c65d-0d42-4300-b90b-64d7c295e679"
   },
   "outputs": [
    {
     "data": {
      "text/plain": [
       "RandomForestClassifier(max_depth=100, random_state=0)"
      ]
     },
     "execution_count": 105,
     "metadata": {},
     "output_type": "execute_result"
    }
   ],
   "source": [
    "RF_part2.fit(intermediate_output_layer_7,y_train2)"
   ]
  },
  {
   "cell_type": "code",
   "execution_count": null,
   "id": "QZyr-BJCmhVN",
   "metadata": {
    "execution": {
     "iopub.execute_input": "2022-12-08T20:10:52.609755Z",
     "iopub.status.busy": "2022-12-08T20:10:52.608754Z",
     "iopub.status.idle": "2022-12-08T20:10:52.872052Z",
     "shell.execute_reply": "2022-12-08T20:10:52.870021Z",
     "shell.execute_reply.started": "2022-12-08T20:10:52.609718Z"
    },
    "id": "QZyr-BJCmhVN",
    "outputId": "fe48bf04-1239-47ce-d4fd-782395267e3d"
   },
   "outputs": [
    {
     "name": "stdout",
     "output_type": "stream",
     "text": [
      "0.7146765783903773\n"
     ]
    }
   ],
   "source": [
    "preds_test_layer_7_RF = RF_part2.predict(intermediate_test_output_layer_7 )\n",
    "\n",
    "f1_score_value_test_layer_7_RF = f1_score(y_test2, preds_test_layer_7_RF)\n",
    "\n",
    "print(f1_score_value_test_layer_7_RF)"
   ]
  },
  {
   "cell_type": "markdown",
   "id": "34fb4a4d",
   "metadata": {},
   "source": [
    "### Get the feature from \"my_layer_8\" layer and feed it to Random forest "
   ]
  },
  {
   "cell_type": "code",
   "execution_count": null,
   "id": "_ohn3RoPmhVN",
   "metadata": {
    "execution": {
     "iopub.execute_input": "2022-12-08T20:08:26.255356Z",
     "iopub.status.busy": "2022-12-08T20:08:26.254962Z",
     "iopub.status.idle": "2022-12-08T20:08:36.408275Z",
     "shell.execute_reply": "2022-12-08T20:08:36.407127Z",
     "shell.execute_reply.started": "2022-12-08T20:08:26.255322Z"
    },
    "id": "_ohn3RoPmhVN",
    "outputId": "56f95c02-5424-4345-9c6a-1dde36008ce3"
   },
   "outputs": [
    {
     "data": {
      "text/plain": [
       "RandomForestClassifier(max_depth=100, random_state=0)"
      ]
     },
     "execution_count": 103,
     "metadata": {},
     "output_type": "execute_result"
    }
   ],
   "source": [
    "RF_part2.fit(intermediate_output_layer_8,y_train2)"
   ]
  },
  {
   "cell_type": "code",
   "execution_count": null,
   "id": "2n0Y23TlmhVN",
   "metadata": {
    "execution": {
     "iopub.execute_input": "2022-12-08T20:09:18.080954Z",
     "iopub.status.busy": "2022-12-08T20:09:18.080440Z",
     "iopub.status.idle": "2022-12-08T20:09:18.494537Z",
     "shell.execute_reply": "2022-12-08T20:09:18.493478Z",
     "shell.execute_reply.started": "2022-12-08T20:09:18.080909Z"
    },
    "id": "2n0Y23TlmhVN",
    "outputId": "526d28a8-6009-4a88-f5ab-d68b3aa3b07f"
   },
   "outputs": [
    {
     "name": "stdout",
     "output_type": "stream",
     "text": [
      "0.7146396861449513\n"
     ]
    }
   ],
   "source": [
    "preds_test_layer_8_RF = RF_part2.predict(intermediate_test_output_layer_8 )\n",
    "\n",
    "f1_score_value_test_layer_8_RF = f1_score(y_test2, preds_test_layer_8_RF)\n",
    "print(f1_score_value_test_layer_8_RF)"
   ]
  },
  {
   "cell_type": "markdown",
   "id": "bfe7229f",
   "metadata": {},
   "source": [
    "### Get the feature from \"my_layer_9\" layer and feed it to Random forest "
   ]
  },
  {
   "cell_type": "code",
   "execution_count": null,
   "id": "2XFEteiqmhVN",
   "metadata": {
    "execution": {
     "iopub.execute_input": "2022-12-08T20:11:15.452933Z",
     "iopub.status.busy": "2022-12-08T20:11:15.452564Z",
     "iopub.status.idle": "2022-12-08T20:12:01.011205Z",
     "shell.execute_reply": "2022-12-08T20:12:01.010060Z",
     "shell.execute_reply.started": "2022-12-08T20:11:15.452901Z"
    },
    "id": "2XFEteiqmhVN",
    "outputId": "f3b475f9-87a0-41ed-e2cc-fb969b5f6732"
   },
   "outputs": [
    {
     "data": {
      "text/plain": [
       "RandomForestClassifier(max_depth=100, random_state=0)"
      ]
     },
     "execution_count": 107,
     "metadata": {},
     "output_type": "execute_result"
    }
   ],
   "source": [
    "RF_part2.fit(intermediate_output_layer_9,y_train2)"
   ]
  },
  {
   "cell_type": "code",
   "execution_count": null,
   "id": "9vyeZtiomhVO",
   "metadata": {
    "execution": {
     "iopub.execute_input": "2022-12-08T20:12:04.218710Z",
     "iopub.status.busy": "2022-12-08T20:12:04.218348Z",
     "iopub.status.idle": "2022-12-08T20:12:04.594065Z",
     "shell.execute_reply": "2022-12-08T20:12:04.591921Z",
     "shell.execute_reply.started": "2022-12-08T20:12:04.218680Z"
    },
    "id": "9vyeZtiomhVO",
    "outputId": "bd972a1d-1a91-4497-fb7c-75429b520afe"
   },
   "outputs": [
    {
     "name": "stdout",
     "output_type": "stream",
     "text": [
      "0.713975828943291\n"
     ]
    }
   ],
   "source": [
    "preds_test_layer_9_RF = RF_part2.predict(intermediate_test_output_layer_9 )\n",
    "\n",
    "f1_score_value_test_layer_9_RF = f1_score(y_test2, preds_test_layer_9_RF)\n",
    "\n",
    "print(f1_score_value_test_layer_9_RF)"
   ]
  },
  {
   "cell_type": "markdown",
   "id": "DZhbiH1fmhVO",
   "metadata": {
    "id": "DZhbiH1fmhVO"
   },
   "source": [
    "-----------"
   ]
  },
  {
   "cell_type": "markdown",
   "id": "3f4ffc9b",
   "metadata": {},
   "source": [
    "### Compare the results of using the output from different layer in the neural network , with XGBoost classifiers "
   ]
  },
  {
   "cell_type": "code",
   "execution_count": 29,
   "id": "9d881e93",
   "metadata": {},
   "outputs": [],
   "source": [
    "xgbScores = [0.7142267189758414,0.7139389557403295,0.7138429752066116]"
   ]
  },
  {
   "cell_type": "code",
   "execution_count": 72,
   "id": "14629037",
   "metadata": {},
   "outputs": [
    {
     "data": {
      "image/png": "[encoded data removed]",
      "text/plain": [
       "<Figure size 792x360 with 1 Axes>"
      ]
     },
     "metadata": {
      "needs_background": "light"
     },
     "output_type": "display_data"
    }
   ],
   "source": [
    "#Creating a figure with some fig size\n",
    "fig, ax = plt.subplots(figsize = (11,5))\n",
    "ax.bar([\"my_layer_7\",\"my_layer_8\",\"my_layer_9\"],xgbScores,width=0.1,color=\"maroon\")\n",
    "for index,data in enumerate(xgbScores):\n",
    "    plt.text(x=index , y =data+.007, s=f\"{data:.4f}\",fontdict=dict(fontsize=14) )\n",
    "plt.tight_layout()\n",
    "\n",
    "plt.xlabel(\"layer name\",fontsize=16)\n",
    "plt.ylabel(\"F1-score on the test data\",fontsize=16)\n",
    "plt.title(f\"the results of using CNN to perform feature extraction and XGBoost to perform classification (using only 5 words)\",fontsize=16)\n",
    "\n",
    "plt.show()"
   ]
  },
  {
   "cell_type": "markdown",
   "id": "65be4e35",
   "metadata": {},
   "source": [
    "### Compare the results of using the output from different layer in the neural network , with Random forest  "
   ]
  },
  {
   "cell_type": "code",
   "execution_count": 35,
   "id": "ab1520b5",
   "metadata": {},
   "outputs": [],
   "source": [
    "rfScores = [0.7146765783903773,0.7146396861449513,0.713975828943291]"
   ]
  },
  {
   "cell_type": "code",
   "execution_count": 73,
   "id": "3c954a0a",
   "metadata": {},
   "outputs": [
    {
     "data": {
      "image/png": "[encoded data removed]",
      "text/plain": [
       "<Figure size 792x360 with 1 Axes>"
      ]
     },
     "metadata": {
      "needs_background": "light"
     },
     "output_type": "display_data"
    }
   ],
   "source": [
    "#Creating a figure with some fig size\n",
    "fig, ax = plt.subplots(figsize = (11,5))\n",
    "ax.bar([\"my_layer_7\",\"my_layer_8\",\"my_layer_9\"],rfScores,width=0.1,color=\"maroon\")\n",
    "for index,data in enumerate(rfScores):\n",
    "    plt.text(x=index , y =data+.007, s=f\"{data:.4f}\",fontdict=dict(fontsize=14) )\n",
    "plt.tight_layout()\n",
    "\n",
    "plt.xlabel(\"layer name\",fontsize=16)\n",
    "plt.ylabel(\"F1-score on the test data\",fontsize=16)\n",
    "plt.title(f\"the results of using CNN to perform feature extraction and Random Forest to perform classification (using only 5 words)\",fontsize=16)\n",
    "\n",
    "plt.show()"
   ]
  },
  {
   "cell_type": "markdown",
   "id": "qv_23gaHmhVO",
   "metadata": {
    "id": "qv_23gaHmhVO"
   },
   "source": [
    "## References "
   ]
  },
  {
   "cell_type": "markdown",
   "id": "jdFso9EtmhVO",
   "metadata": {
    "id": "jdFso9EtmhVO"
   },
   "source": [
    "[1] https://www.csmining.org/cdmc2021/index.php?id=5\n",
    "\n",
    "[2] https://keras.io/api/applications/"
   ]
  }
 ],
 "metadata": {
  "colab": {
   "collapsed_sections": [
    "PPloBw3zmhVB",
    "hC2q4eS5mhVB",
    "dIByLyz3mhVC",
    "DMH3VFR7mhVC",
    "gP8JfSM4mhVE"
   ],
   "provenance": []
  },
  "kernelspec": {
   "display_name": "Python 3 (ipykernel)",
   "language": "python",
   "name": "python3"
  },
  "language_info": {
   "codemirror_mode": {
    "name": "ipython",
    "version": 3
   },
   "file_extension": ".py",
   "mimetype": "text/x-python",
   "name": "python",
   "nbconvert_exporter": "python",
   "pygments_lexer": "ipython3",
   "version": "3.9.7"
  },
  "toc": {
   "base_numbering": 1,
   "nav_menu": {},
   "number_sections": true,
   "sideBar": true,
   "skip_h1_title": true,
   "title_cell": "Table of Contents",
   "title_sidebar": "Contents",
   "toc_cell": false,
   "toc_position": {},
   "toc_section_display": true,
   "toc_window_display": true
  }
 },
 "nbformat": 4,
 "nbformat_minor": 5
}
